{
 "cells": [
  {
   "attachments": {},
   "cell_type": "markdown",
   "metadata": {},
   "source": [
    "# Exploration and Analysis of GitHub User dataset"
   ]
  },
  {
   "attachments": {},
   "cell_type": "markdown",
   "metadata": {},
   "source": [
    "## Imports/Configuration"
   ]
  },
  {
   "cell_type": "code",
   "execution_count": 1,
   "metadata": {},
   "outputs": [
    {
     "name": "stdout",
     "output_type": "stream",
     "text": [
      "Requirement already satisfied: wordcloud in c:\\users\\jsnsw\\anaconda3\\envs\\recsys\\lib\\site-packages (1.8.2.2)Note: you may need to restart the kernel to use updated packages.\n",
      "\n",
      "Requirement already satisfied: matplotlib in c:\\users\\jsnsw\\anaconda3\\envs\\recsys\\lib\\site-packages (from wordcloud) (3.6.2)\n",
      "Requirement already satisfied: pillow in c:\\users\\jsnsw\\anaconda3\\envs\\recsys\\lib\\site-packages (from wordcloud) (9.3.0)\n",
      "Requirement already satisfied: numpy>=1.6.1 in c:\\users\\jsnsw\\anaconda3\\envs\\recsys\\lib\\site-packages (from wordcloud) (1.23.5)\n",
      "Requirement already satisfied: cycler>=0.10 in c:\\users\\jsnsw\\anaconda3\\envs\\recsys\\lib\\site-packages (from matplotlib->wordcloud) (0.11.0)\n",
      "Requirement already satisfied: fonttools>=4.22.0 in c:\\users\\jsnsw\\anaconda3\\envs\\recsys\\lib\\site-packages (from matplotlib->wordcloud) (4.25.0)\n",
      "Requirement already satisfied: kiwisolver>=1.0.1 in c:\\users\\jsnsw\\anaconda3\\envs\\recsys\\lib\\site-packages (from matplotlib->wordcloud) (1.4.4)\n",
      "Requirement already satisfied: pyparsing>=2.2.1 in c:\\users\\jsnsw\\anaconda3\\envs\\recsys\\lib\\site-packages (from matplotlib->wordcloud) (3.0.9)\n",
      "Requirement already satisfied: python-dateutil>=2.7 in c:\\users\\jsnsw\\anaconda3\\envs\\recsys\\lib\\site-packages (from matplotlib->wordcloud) (2.8.2)\n",
      "Requirement already satisfied: packaging>=20.0 in c:\\users\\jsnsw\\anaconda3\\envs\\recsys\\lib\\site-packages (from matplotlib->wordcloud) (22.0)\n",
      "Requirement already satisfied: contourpy>=1.0.1 in c:\\users\\jsnsw\\anaconda3\\envs\\recsys\\lib\\site-packages (from matplotlib->wordcloud) (1.0.5)\n",
      "Requirement already satisfied: six>=1.5 in c:\\users\\jsnsw\\anaconda3\\envs\\recsys\\lib\\site-packages (from python-dateutil>=2.7->matplotlib->wordcloud) (1.16.0)\n"
     ]
    }
   ],
   "source": [
    "import pandas as pd\n",
    "import matplotlib.pyplot as plt\n",
    "import numpy as np\n",
    "%pip install wordcloud\n",
    "from wordcloud import WordCloud\n",
    "from ast import literal_eval\n",
    "import json\n",
    "import time\n",
    "import requests\n",
    "\n",
    "pd.set_option('display.max_columns', None)\n",
    "pd.set_option(\"max_colwidth\", 400)"
   ]
  },
  {
   "attachments": {},
   "cell_type": "markdown",
   "metadata": {},
   "source": [
    "## Data Filtering/Cleaning"
   ]
  },
  {
   "attachments": {},
   "cell_type": "markdown",
   "metadata": {},
   "source": [
    "### Loading Dataset\n",
    "Reading the json from the 10M GitHub Users dataset from https://dataverse.harvard.edu/dataset.xhtml?persistentId=doi:10.7910/DVN/T6ZRJT.\n",
    "\n",
    "Due to the size of the dataset, it has to be loaded in chunks using the read_json() method from pandas."
   ]
  },
  {
   "cell_type": "code",
   "execution_count": 188,
   "metadata": {},
   "outputs": [],
   "source": [
    "chunks = pd.read_json(\"../data/data.json\", lines=True, chunksize=10000)"
   ]
  },
  {
   "attachments": {},
   "cell_type": "markdown",
   "metadata": {},
   "source": [
    "### Filtering Data\n",
    "Iterated through each chunk and filtered it by only accepting users that are\n",
    "1. Not suspicious\n",
    "2. Of the 'User' type\n",
    "3. Have a bio\n",
    "4. Following at least 1 other user\n",
    "5. Has at least 1 repo\n",
    "\n",
    "The filtering rules were made to be strict so that the best data can be used for providing recommendations, as there is such a large amount of data to extract from. This will also save time for calculations/adjustments made to the data later on.\n",
    "\n",
    "Only the required columns were kept in the final dataframe from this process, 'id', 'location', 'company', 'bio', 'follower_list', 'following_list' and 'repo_list'."
   ]
  },
  {
   "cell_type": "code",
   "execution_count": null,
   "metadata": {},
   "outputs": [],
   "source": [
    "count = 0\n",
    "\n",
    "# Initialise list of dataframes to be kept\n",
    "chunk_list = []\n",
    "\n",
    "# Loop through all chunks\n",
    "for chunk in chunks:\n",
    "    chunk = chunk.loc[\n",
    "                        (chunk[\"following_list\"].notna())   \n",
    "                        & (chunk[\"repo_list\"].notna())\n",
    "                        & (chunk[\"is_suspicious\"] == False)\n",
    "                        & (chunk[\"type\"] == \"User\")\n",
    "                        & (chunk[\"bio\"].notna())\n",
    "                        & (chunk[\"following_list\"].map(lambda d: len(d) if d != None else None) > 0)\n",
    "                        & (chunk[\"repo_list\"].map(lambda d: len(d) if d != None else None) > 0)\n",
    "                    ]\n",
    "\n",
    "    # Only keep specified columns\n",
    "    df_filtered = chunk[[\"id\", \"location\", \"company\", \"bio\", \"follower_list\", \"following_list\", \"repo_list\"]]\n",
    "    count += 10000\n",
    "    print(count)\n",
    "    chunk_list.append(df_filtered)\n",
    "\n",
    "df = pd.concat(chunk_list)\n",
    "\n",
    "df.to_csv(\"../data/filtered_data.csv\", encoding='utf-8', index=False)"
   ]
  },
  {
   "attachments": {},
   "cell_type": "markdown",
   "metadata": {},
   "source": [
    "### Altering Data Columns"
   ]
  },
  {
   "cell_type": "code",
   "execution_count": null,
   "metadata": {},
   "outputs": [],
   "source": [
    "for i in df.index:\n",
    "    repo_list = df.at[i, \"repo_list\"]\n",
    "    languages = [d[\"language\"] for d in repo_list]\n",
    "    languages = [i for i in set(languages) if i is not None]\n",
    "    df.at[i, 'repo_list'] = languages\n",
    "    print(i)\n",
    "\n",
    "df.rename(columns={\"repo_list\": \"languages\"}, inplace=True)\n",
    "df = df.loc[(df[\"languages\"].map(lambda d: len(d)) > 0)]"
   ]
  },
  {
   "cell_type": "code",
   "execution_count": 195,
   "metadata": {},
   "outputs": [],
   "source": [
    "df = df[df[\"location\"].notna()]"
   ]
  },
  {
   "attachments": {},
   "cell_type": "markdown",
   "metadata": {},
   "source": [
    "#### Removing absent users from following_list and follower_list"
   ]
  },
  {
   "cell_type": "code",
   "execution_count": 5,
   "metadata": {},
   "outputs": [],
   "source": [
    "def existing_users(df, col):\n",
    "    found_users_list = []\n",
    "    for i in df.index:\n",
    "        following_list = df.at[i, col]\n",
    "        users_to_remove = []\n",
    "        for item in following_list:\n",
    "            if not df[df[\"id\"] == item].empty:\n",
    "                found_users_list.append(df[df[\"id\"] == item])\n",
    "            else:\n",
    "                users_to_remove.append(item)\n",
    "        df.at[i, col] = [x for x in following_list if x not in users_to_remove]\n",
    "                \n",
    "    return pd.concat(found_users_list)\n",
    "\n"
   ]
  },
  {
   "cell_type": "code",
   "execution_count": null,
   "metadata": {},
   "outputs": [],
   "source": [
    "existing_followed_users = existing_users(df, \"following_list\")\n",
    "# existing_following_users = existing_users(df, \"follower_list\")"
   ]
  },
  {
   "cell_type": "code",
   "execution_count": 24,
   "metadata": {},
   "outputs": [],
   "source": [
    "df = df.loc[\n",
    "    (df[\"following_list\"].map(lambda d: len(d)) > 0)\n",
    "]"
   ]
  },
  {
   "cell_type": "code",
   "execution_count": 6,
   "metadata": {},
   "outputs": [],
   "source": [
    "df[\"languages_str\"] = df[\"languages\"].transform(lambda x: [f\"[lang_{i}]\" for i in x])\n",
    "df[\"languages_str\"] = [' '.join(map(str, l)) for l in df['languages_str']]\n",
    "\n",
    "df[\"location_str\"] = \"[loc_\" + df[\"location\"] + \"]\"\n",
    "df.loc[df[\"location_str\"].isna(), \"location_str\"] = \"\"\n",
    "\n",
    "df[\"clean_input\"] = df[\"bio\"] + \" \" + df[\"languages_str\"]"
   ]
  },
  {
   "attachments": {},
   "cell_type": "markdown",
   "metadata": {},
   "source": [
    "### Extracting Job Titles"
   ]
  },
  {
   "cell_type": "code",
   "execution_count": null,
   "metadata": {},
   "outputs": [],
   "source": [
    "f = open('job_titles.json')\n",
    "job_data = json.load(f)\n",
    "job_data = job_data[\"job-titles\"]\n",
    "\n",
    "count = 0\n",
    "\n",
    "def extract_job(row):\n",
    "    extracted_list = [str(word).lower() for word in job_data if word in str(row[\"bio\"]).lower()]\n",
    "    global count\n",
    "    count += 1\n",
    "    print(count)\n",
    "    if len(extracted_list) == 0:\n",
    "        return None\n",
    "    else:\n",
    "        return max(extracted_list, key=len)\n",
    "\n",
    "df['job'] = df.apply(extract_job, axis=1)"
   ]
  },
  {
   "attachments": {},
   "cell_type": "markdown",
   "metadata": {},
   "source": [
    "### Lat/Long Columns"
   ]
  },
  {
   "cell_type": "code",
   "execution_count": null,
   "metadata": {},
   "outputs": [],
   "source": [
    "locations_dict = {}"
   ]
  },
  {
   "cell_type": "code",
   "execution_count": null,
   "metadata": {},
   "outputs": [],
   "source": [
    "count = 0\n",
    "\n",
    "\n",
    "location_notna_df = df.copy()\n",
    "location_notna_df = location_notna_df[location_notna_df[\"location\"].notna()]\n",
    "\n",
    "for i, row in location_notna_df.iterrows():\n",
    "    count += 1\n",
    "    if row[\"location\"].lower() not in locations_dict:\n",
    "        response = requests.get(f\"https://geocode.maps.co/search?q={row['location']}\")\n",
    "        if response.status_code == 200 and len(response.json()) > 0:\n",
    "            res_data = response.json()\n",
    "            df.at[i,'lat'] = res_data[0][\"lat\"]\n",
    "            df.at[i,'lon'] = res_data[0][\"lon\"]\n",
    "            locations_dict[row[\"location\"].lower()] = {\"lat\": res_data[0][\"lat\"], \"lon\": res_data[0][\"lon\"], \"new_location\": res_data[0][\"display_name\"]}\n",
    "            df.at[i,'new_location'] = res_data[0][\"display_name\"]\n",
    "        else:\n",
    "            df.at[i,'lat'] = None\n",
    "            df.at[i,'lon'] = None\n",
    "        time.sleep(0.6)\n",
    "    else:\n",
    "        print(f\"FOUND: {row['location']}\")\n",
    "        df.at[i,'lat'] = locations_dict[row[\"location\"].lower()][\"lat\"]\n",
    "        df.at[i,'lon'] = locations_dict[row[\"location\"].lower()][\"lon\"]\n",
    "        df.at[i,'new_location'] = locations_dict[row[\"location\"].lower()][\"new_location\"]\n",
    "\n",
    "    print(count)"
   ]
  },
  {
   "cell_type": "code",
   "execution_count": 26,
   "metadata": {},
   "outputs": [],
   "source": [
    "df.to_csv(\"../data/data.csv\", encoding='utf-8', index=False)"
   ]
  },
  {
   "attachments": {},
   "cell_type": "markdown",
   "metadata": {},
   "source": [
    "### Load cleaned data"
   ]
  },
  {
   "cell_type": "code",
   "execution_count": 2,
   "metadata": {},
   "outputs": [
    {
     "name": "stderr",
     "output_type": "stream",
     "text": [
      "C:\\Users\\jsnsw\\AppData\\Local\\Temp\\ipykernel_16360\\1373787469.py:3: FutureWarning: The default value of regex will change from True to False in a future version. In addition, single character regular expressions will *not* be treated as literal strings when regex=True.\n",
      "  df.columns = (df.columns.str.strip().str.lower()\n",
      "C:\\Users\\jsnsw\\AppData\\Local\\Temp\\ipykernel_16360\\1373787469.py:3: FutureWarning: The default value of regex will change from True to False in a future version. In addition, single character regular expressions will *not* be treated as literal strings when regex=True.\n",
      "  df.columns = (df.columns.str.strip().str.lower()\n"
     ]
    }
   ],
   "source": [
    "df = pd.read_csv(\"../data/data.csv\", delimiter=',', converters={\"follower_list\": pd.eval, \"following_list\": pd.eval, \"languages\": literal_eval})\n",
    "\n",
    "df.columns = (df.columns.str.strip().str.lower()\n",
    "              .str.replace(' ', '_')\n",
    "              .str.replace('(', '')\n",
    "              .str.replace(')', ''))\n",
    "\n",
    "df[\"follower_list\"] = df[\"follower_list\"].apply(lambda x: x.tolist())\n",
    "df[\"following_list\"] = df[\"following_list\"].apply(lambda x: x.tolist())"
   ]
  },
  {
   "attachments": {},
   "cell_type": "markdown",
   "metadata": {},
   "source": [
    "## Data Analysis"
   ]
  },
  {
   "attachments": {},
   "cell_type": "markdown",
   "metadata": {},
   "source": [
    "### Wordcloud\n",
    "Wordcloud generated from bio descriptions of all users. This shows that words like 'Computer Science', 'Developer', 'University' etc. are extremely common between bios which means we probably don't want to recommend users based on these keywords."
   ]
  },
  {
   "cell_type": "code",
   "execution_count": null,
   "metadata": {},
   "outputs": [],
   "source": [
    "text = \"\"\n",
    "for i in df[\"bio\"]:\n",
    "    text += str(i) + \" \"\n",
    "\n",
    "plt.figure(figsize=(8, 8))\n",
    "\n",
    "x, y = np.ogrid[:300, :300]\n",
    "\n",
    "mask = (x - 150) ** 2 + (y - 150) ** 2 > 130 ** 2\n",
    "mask = 255 * mask.astype(int)\n",
    "\n",
    "wc = WordCloud(\n",
    "    width=500,\n",
    "    height=500,\n",
    "    background_color=\"white\",\n",
    "    min_font_size=6,\n",
    "    repeat=True,\n",
    "    mask=mask,\n",
    ")\n",
    "wc.generate(text)\n",
    "\n",
    "plt.axis(\"off\")\n",
    "plt.imshow(wc, interpolation=\"bilinear\")\n",
    "plt.title(f\"Most Used Words\", fontsize=20)"
   ]
  },
  {
   "attachments": {},
   "cell_type": "markdown",
   "metadata": {},
   "source": [
    "### Visualisation User Jobs"
   ]
  },
  {
   "cell_type": "code",
   "execution_count": null,
   "metadata": {},
   "outputs": [],
   "source": [
    "number_of_students = len(df[df[\"job\"] == \"student\"].index)\n",
    "number_of_professionals = len(df[(df[\"job\"].notna()) & (df[\"job\"] != \"student\")].index)\n",
    "number_of_unemployed = len(df.index) - (number_of_students + number_of_professionals)\n",
    "\n",
    "import matplotlib.pyplot as plt\n",
    "fig = plt.figure()\n",
    "ax = fig.add_axes([0,0,1,1])\n",
    "langs = ['Student', 'Professional', 'Unemployed']\n",
    "students = [number_of_students, number_of_professionals, number_of_unemployed]\n",
    "ax.bar(langs,students)\n",
    "plt.show()"
   ]
  },
  {
   "cell_type": "code",
   "execution_count": null,
   "metadata": {},
   "outputs": [],
   "source": [
    "all_jobs = df[\"job\"].value_counts()\n",
    "\n",
    "\n",
    "all_jobs = all_jobs[0:20]\n",
    "labels = all_jobs.index\n",
    "sizes = all_jobs.values.tolist()\n",
    "\n",
    "fig, ax = plt.subplots(figsize=(8, 8))\n",
    "\n",
    "wedges, texts = ax.pie(sizes, labels=labels)\n",
    "plt.show()\n"
   ]
  },
  {
   "attachments": {},
   "cell_type": "markdown",
   "metadata": {},
   "source": [
    "### Plot of User Geographic Locations"
   ]
  },
  {
   "cell_type": "code",
   "execution_count": 3,
   "metadata": {},
   "outputs": [],
   "source": [
    "map_plot_df = df.copy()\n",
    "map_plot_df = map_plot_df[map_plot_df[\"new_location\"].notna()]\n",
    "map_plot_df[\"country\"] = map_plot_df.apply(lambda x: x[\"new_location\"].split(\", \")[-1], axis=1)\n",
    "map_plot_df[\"follower_count\"] = map_plot_df.apply(lambda x: len(x[\"follower_list\"]), axis=1)\n",
    "map_plot_df[\"following_count\"] = map_plot_df.apply(lambda x: len(x[\"following_list\"]), axis=1)"
   ]
  },
  {
   "cell_type": "code",
   "execution_count": 4,
   "metadata": {},
   "outputs": [
    {
     "name": "stdout",
     "output_type": "stream",
     "text": [
      "Requirement already satisfied: plotly in c:\\users\\jsnsw\\anaconda3\\envs\\recsys\\lib\\site-packages (5.13.0)\n",
      "Requirement already satisfied: tenacity>=6.2.0 in c:\\users\\jsnsw\\anaconda3\\envs\\recsys\\lib\\site-packages (from plotly) (8.2.1)\n",
      "Note: you may need to restart the kernel to use updated packages.\n",
      "Requirement already satisfied: nbformat in c:\\users\\jsnsw\\anaconda3\\envs\\recsys\\lib\\site-packages (5.7.3)\n",
      "Requirement already satisfied: jsonschema>=2.6 in c:\\users\\jsnsw\\anaconda3\\envs\\recsys\\lib\\site-packages (from nbformat) (4.17.3)\n",
      "Requirement already satisfied: traitlets>=5.1 in c:\\users\\jsnsw\\anaconda3\\envs\\recsys\\lib\\site-packages (from nbformat) (5.7.1)\n",
      "Requirement already satisfied: fastjsonschema in c:\\users\\jsnsw\\anaconda3\\envs\\recsys\\lib\\site-packages (from nbformat) (2.16.2)\n",
      "Requirement already satisfied: jupyter-core in c:\\users\\jsnsw\\anaconda3\\envs\\recsys\\lib\\site-packages (from nbformat) (5.1.1)\n",
      "Requirement already satisfied: pyrsistent!=0.17.0,!=0.17.1,!=0.17.2,>=0.14.0 in c:\\users\\jsnsw\\anaconda3\\envs\\recsys\\lib\\site-packages (from jsonschema>=2.6->nbformat) (0.19.3)\n",
      "Requirement already satisfied: attrs>=17.4.0 in c:\\users\\jsnsw\\anaconda3\\envs\\recsys\\lib\\site-packages (from jsonschema>=2.6->nbformat) (22.2.0)\n",
      "Requirement already satisfied: pywin32>=1.0 in c:\\users\\jsnsw\\anaconda3\\envs\\recsys\\lib\\site-packages (from jupyter-core->nbformat) (305.1)\n",
      "Requirement already satisfied: platformdirs>=2.5 in c:\\users\\jsnsw\\anaconda3\\envs\\recsys\\lib\\site-packages (from jupyter-core->nbformat) (2.5.2)\n",
      "Note: you may need to restart the kernel to use updated packages.\n"
     ]
    }
   ],
   "source": [
    "%pip install plotly\n",
    "%pip install nbformat \n",
    "import plotly.express as px"
   ]
  },
  {
   "cell_type": "code",
   "execution_count": null,
   "metadata": {},
   "outputs": [],
   "source": [
    "fig = px.scatter_geo(map_plot_df, lat=\"lat\", lon=\"lon\", hover_name=\"id\", size=map_plot_df[\"following_count\"]+1)\n",
    "fig.update_layout(title=\"World Map\", title_x=0.5)\n",
    "fig.update_traces(marker=dict(line=dict(width=0), color=\"#157D9D\"))\n",
    "fig.update_geos(\n",
    "    showcountries=True,\n",
    "    countrycolor=\"Grey\",\n",
    "    resolution=110,\n",
    ")\n",
    "fig.show()"
   ]
  },
  {
   "attachments": {},
   "cell_type": "markdown",
   "metadata": {},
   "source": [
    "## Recommender System"
   ]
  },
  {
   "cell_type": "code",
   "execution_count": 3,
   "metadata": {},
   "outputs": [],
   "source": [
    "from sklearn.metrics.pairwise import cosine_similarity\n",
    "from sklearn.feature_extraction.text import TfidfVectorizer#\n",
    "# rs_df = df.copy()[[\"id\", \"following_list\"]][0:500]"
   ]
  },
  {
   "cell_type": "code",
   "execution_count": 6,
   "metadata": {},
   "outputs": [
    {
     "data": {
      "text/html": [
       "<div>\n",
       "<style scoped>\n",
       "    .dataframe tbody tr th:only-of-type {\n",
       "        vertical-align: middle;\n",
       "    }\n",
       "\n",
       "    .dataframe tbody tr th {\n",
       "        vertical-align: top;\n",
       "    }\n",
       "\n",
       "    .dataframe thead th {\n",
       "        text-align: right;\n",
       "    }\n",
       "</style>\n",
       "<table border=\"1\" class=\"dataframe\">\n",
       "  <thead>\n",
       "    <tr style=\"text-align: right;\">\n",
       "      <th></th>\n",
       "      <th>id</th>\n",
       "      <th>location</th>\n",
       "      <th>company</th>\n",
       "      <th>bio</th>\n",
       "      <th>follower_list</th>\n",
       "      <th>following_list</th>\n",
       "      <th>languages</th>\n",
       "      <th>languages_str</th>\n",
       "      <th>location_str</th>\n",
       "      <th>clean_input</th>\n",
       "      <th>lat</th>\n",
       "      <th>lon</th>\n",
       "      <th>new_location</th>\n",
       "      <th>job</th>\n",
       "    </tr>\n",
       "  </thead>\n",
       "  <tbody>\n",
       "    <tr>\n",
       "      <th>20438</th>\n",
       "      <td>23715779</td>\n",
       "      <td>上海</td>\n",
       "      <td>京东</td>\n",
       "      <td>Pursue better life with great passion.</td>\n",
       "      <td>[16452711, 4798868, 6508763, 376338, 16770992, 23115833]</td>\n",
       "      <td>[190570, 1132815, 16452711]</td>\n",
       "      <td>[CSS, JavaScript, HTML, ApacheConf, Vue]</td>\n",
       "      <td>[lang_CSS] [lang_JavaScript] [lang_HTML] [lang_ApacheConf] [lang_Vue]</td>\n",
       "      <td>[loc_上海]</td>\n",
       "      <td>Pursue better life with great passion. [lang_CSS] [lang_JavaScript] [lang_HTML] [lang_ApacheConf] [lang_Vue] [loc_上海]</td>\n",
       "      <td>31.232276</td>\n",
       "      <td>121.469207</td>\n",
       "      <td>上海市, 黄浦区, 上海市, 200001, 中国</td>\n",
       "      <td>NaN</td>\n",
       "    </tr>\n",
       "    <tr>\n",
       "      <th>16361</th>\n",
       "      <td>5284549</td>\n",
       "      <td>Beijing</td>\n",
       "      <td>NaN</td>\n",
       "      <td>talk is cheap show me the code</td>\n",
       "      <td>[359395, 6380245, 8436926, 10738412, 9276600, 5006599, 7718424, 4107768, 3604053, 5877145, 15937489, 16177576, 9900022, 12221093, 7844268, 18730602, 7081564, 7699857, 13674772, 13656285, 23456500, 19643593, 16110544, 17630667, 6508763, 27757617, 22447832, 6028123, 3223853, 37007704]</td>\n",
       "      <td>[1171349, 7081564, 8436926]</td>\n",
       "      <td>[Java, Go, Python, PHP, Shell, C, JavaScript, HTML]</td>\n",
       "      <td>[lang_Java] [lang_Go] [lang_Python] [lang_PHP] [lang_Shell] [lang_C] [lang_JavaScript] [lang_HTML]</td>\n",
       "      <td>[loc_Beijing]</td>\n",
       "      <td>talk is cheap show me the code [lang_Java] [lang_Go] [lang_Python] [lang_PHP] [lang_Shell] [lang_C] [lang_JavaScript] [lang_HTML] [loc_Beijing]</td>\n",
       "      <td>39.906217</td>\n",
       "      <td>116.391276</td>\n",
       "      <td>北京市, 东城区, 北京市, 100010, 中国</td>\n",
       "      <td>NaN</td>\n",
       "    </tr>\n",
       "    <tr>\n",
       "      <th>25420</th>\n",
       "      <td>22819047</td>\n",
       "      <td>Aarhus, Denmark</td>\n",
       "      <td>Aarhus University (student)</td>\n",
       "      <td>BSc. in cognitive science.\\r\\nFormer machine learning researcher at @unsiloai. \\r\\nR for linear and non-linear statistics.\\r\\nPython and TensorFlow for ML/DL.</td>\n",
       "      <td>[22818957, 6108197, 26977911, 26725426, 22320997]</td>\n",
       "      <td>[6108197]</td>\n",
       "      <td>[R, JavaScript, CSS, Python]</td>\n",
       "      <td>[lang_R] [lang_JavaScript] [lang_CSS] [lang_Python]</td>\n",
       "      <td>[loc_Aarhus, Denmark]</td>\n",
       "      <td>BSc. in cognitive science.\\r\\nFormer machine learning researcher at @unsiloai. \\r\\nR for linear and non-linear statistics.\\r\\nPython and TensorFlow for ML/DL. [lang_R] [lang_JavaScript] [lang_CSS] [lang_Python] [loc_Aarhus, Denmark]</td>\n",
       "      <td>56.149628</td>\n",
       "      <td>10.213405</td>\n",
       "      <td>Aarhus, Aarhus Kommune, Region Midtjylland, 8000, Danmark</td>\n",
       "      <td>researcher</td>\n",
       "    </tr>\n",
       "    <tr>\n",
       "      <th>13466</th>\n",
       "      <td>18140164</td>\n",
       "      <td>Beijing</td>\n",
       "      <td>baidu</td>\n",
       "      <td>WEB Developer.\\r\\nWorking at @fex-team...</td>\n",
       "      <td>[9402574, 6255130, 20765716, 13400243, 24206026, 6807169, 10868742, 25519209, 13002096, 11626454, 23236638, 13282699, 15100664, 1303660, 16147702, 22560819, 8716838, 5704064, 8576686, 12341577, 512805, 15083861, 3427324, 7429593, 11702191, 26621840, 28984645, 20570015, 6508763, 14251570, 7480839, 3103676, 1134651, 30428176, 13698578, 35494467, 24578248, 6647633, 17545800, 16015431, 20266594, 1...</td>\n",
       "      <td>[6255130, 9402574, 10868742, 13400243]</td>\n",
       "      <td>[Dart, CSS, C++, Elm, Python, Shell, JavaScript, C, LLVM]</td>\n",
       "      <td>[lang_Dart] [lang_CSS] [lang_C++] [lang_Elm] [lang_Python] [lang_Shell] [lang_JavaScript] [lang_C] [lang_LLVM]</td>\n",
       "      <td>[loc_Beijing]</td>\n",
       "      <td>WEB Developer.\\r\\nWorking at @fex-team... [lang_Dart] [lang_CSS] [lang_C++] [lang_Elm] [lang_Python] [lang_Shell] [lang_JavaScript] [lang_C] [lang_LLVM] [loc_Beijing]</td>\n",
       "      <td>39.906217</td>\n",
       "      <td>116.391276</td>\n",
       "      <td>北京市, 东城区, 北京市, 100010, 中国</td>\n",
       "      <td>web developer</td>\n",
       "    </tr>\n",
       "    <tr>\n",
       "      <th>22615</th>\n",
       "      <td>765322</td>\n",
       "      <td>Bangladesh</td>\n",
       "      <td>Telenor Health</td>\n",
       "      <td>Full stack JavaScript developer</td>\n",
       "      <td>[2048804, 1529567, 2104003, 897424, 454607, 3663724, 869628, 2722232, 6271658, 1806102, 7194049, 3789618, 4057721, 3876178, 8222216, 7165058, 4525049, 746195, 1283998, 2173554, 831997, 3125771, 9364714, 8897830, 1234482, 5007898, 6452893, 2099045, 5006546, 9595659, 1680845, 9613826, 9903051, 2246667, 3756843, 8105846, 10392532, 723362, 10028118, 8043424, 8476851, 11360789, 4346154, 1965024, 67...</td>\n",
       "      <td>[2722232, 8197854]</td>\n",
       "      <td>[CSS, Python, Shell, PHP, Objective-C, JavaScript, HTML]</td>\n",
       "      <td>[lang_CSS] [lang_Python] [lang_Shell] [lang_PHP] [lang_Objective-C] [lang_JavaScript] [lang_HTML]</td>\n",
       "      <td>[loc_Bangladesh]</td>\n",
       "      <td>Full stack JavaScript developer [lang_CSS] [lang_Python] [lang_Shell] [lang_PHP] [lang_Objective-C] [lang_JavaScript] [lang_HTML] [loc_Bangladesh]</td>\n",
       "      <td>24.476929</td>\n",
       "      <td>90.293441</td>\n",
       "      <td>বাংলাদেশ</td>\n",
       "      <td>javascript developer</td>\n",
       "    </tr>\n",
       "    <tr>\n",
       "      <th>...</th>\n",
       "      <td>...</td>\n",
       "      <td>...</td>\n",
       "      <td>...</td>\n",
       "      <td>...</td>\n",
       "      <td>...</td>\n",
       "      <td>...</td>\n",
       "      <td>...</td>\n",
       "      <td>...</td>\n",
       "      <td>...</td>\n",
       "      <td>...</td>\n",
       "      <td>...</td>\n",
       "      <td>...</td>\n",
       "      <td>...</td>\n",
       "      <td>...</td>\n",
       "    </tr>\n",
       "    <tr>\n",
       "      <th>1392</th>\n",
       "      <td>3593967</td>\n",
       "      <td>Buenos Aires,Argentina</td>\n",
       "      <td>www.ricardogcolombo.com</td>\n",
       "      <td>I see code everywhere... \\r\\n</td>\n",
       "      <td>[5877145, 10111, 1649260, 5131269, 3604053, 4541773, 4069972, 1402479, 4420832, 5755720, 7635448, 22728539, 25108668, 24560707, 17972943, 17171225, 11867058, 4128909, 6508763, 14251570, 7357679, 25737058, 2609100, 21250813, 15626022]</td>\n",
       "      <td>[5755720, 17171225]</td>\n",
       "      <td>[Smalltalk, C++, Python, TeX, Prolog]</td>\n",
       "      <td>[lang_Smalltalk] [lang_C++] [lang_Python] [lang_TeX] [lang_Prolog]</td>\n",
       "      <td>[loc_Buenos Aires,Argentina]</td>\n",
       "      <td>I see code everywhere... \\r\\n [lang_Smalltalk] [lang_C++] [lang_Python] [lang_TeX] [lang_Prolog] [loc_Buenos Aires,Argentina]</td>\n",
       "      <td>-34.607568</td>\n",
       "      <td>-58.437089</td>\n",
       "      <td>Buenos Aires, Comuna 6, Ciudad Autónoma de Buenos Aires, Argentina</td>\n",
       "      <td>NaN</td>\n",
       "    </tr>\n",
       "    <tr>\n",
       "      <th>21526</th>\n",
       "      <td>13493736</td>\n",
       "      <td>Regina, SK, Canada</td>\n",
       "      <td>NaN</td>\n",
       "      <td>https://www.somabright.com/p/about-me.html</td>\n",
       "      <td>[5877145, 24361527, 17171225, 18068790, 14251570, 22311928, 302215]</td>\n",
       "      <td>[17171225]</td>\n",
       "      <td>[CSS, Python, JavaScript, HTML]</td>\n",
       "      <td>[lang_CSS] [lang_Python] [lang_JavaScript] [lang_HTML]</td>\n",
       "      <td>[loc_Regina, SK, Canada]</td>\n",
       "      <td>https://www.somabright.com/p/about-me.html [lang_CSS] [lang_Python] [lang_JavaScript] [lang_HTML] [loc_Regina, SK, Canada]</td>\n",
       "      <td>50.448760</td>\n",
       "      <td>-104.617310</td>\n",
       "      <td>Regina, Saskatchewan, Canada</td>\n",
       "      <td>NaN</td>\n",
       "    </tr>\n",
       "    <tr>\n",
       "      <th>4297</th>\n",
       "      <td>16360684</td>\n",
       "      <td>Shanghai, China</td>\n",
       "      <td>za</td>\n",
       "      <td>上善若水，笃学敦行</td>\n",
       "      <td>[19908809, 19499958, 19526830, 19163507, 22386552, 16571097, 8543429, 12789564, 15718639, 26089446, 24990862, 15682701, 13551340, 18695884, 4863897, 19831373, 17974972, 5392562, 21041458, 22448515, 17669312, 15963480, 644260, 18467823, 2830700, 4797479, 6647266, 24806937, 25787189, 22794688, 18246719, 23137342, 16360059, 20398244, 16712628, 26322322, 20265668, 20642055, 2716092, 25816170, 1652...</td>\n",
       "      <td>[19499958, 19526830]</td>\n",
       "      <td>[CSS, PHP, Shell, JavaScript, HTML, Vue]</td>\n",
       "      <td>[lang_CSS] [lang_PHP] [lang_Shell] [lang_JavaScript] [lang_HTML] [lang_Vue]</td>\n",
       "      <td>[loc_Shanghai, China]</td>\n",
       "      <td>上善若水，笃学敦行 [lang_CSS] [lang_PHP] [lang_Shell] [lang_JavaScript] [lang_HTML] [lang_Vue] [loc_Shanghai, China]</td>\n",
       "      <td>31.232276</td>\n",
       "      <td>121.469207</td>\n",
       "      <td>上海市, 黄浦区, 上海市, 200001, 中国</td>\n",
       "      <td>NaN</td>\n",
       "    </tr>\n",
       "    <tr>\n",
       "      <th>19181</th>\n",
       "      <td>29157111</td>\n",
       "      <td>Hangzhou, China</td>\n",
       "      <td>NaN</td>\n",
       "      <td>学而不思则罔 思而不学则殆</td>\n",
       "      <td>[28613856, 39795489, 38515714, 13826695, 25880361, 17547658, 32569716, 17788836, 15070465, 18069825, 16753554, 21174047, 22208384]</td>\n",
       "      <td>[28613856]</td>\n",
       "      <td>[CSS, JavaScript, Vue]</td>\n",
       "      <td>[lang_CSS] [lang_JavaScript] [lang_Vue]</td>\n",
       "      <td>[loc_Hangzhou, China]</td>\n",
       "      <td>学而不思则罔 思而不学则殆 [lang_CSS] [lang_JavaScript] [lang_Vue] [loc_Hangzhou, China]</td>\n",
       "      <td>30.248963</td>\n",
       "      <td>120.205234</td>\n",
       "      <td>杭州市, 浙江省, 中国</td>\n",
       "      <td>NaN</td>\n",
       "    </tr>\n",
       "    <tr>\n",
       "      <th>2856</th>\n",
       "      <td>5861230</td>\n",
       "      <td>New York, NY</td>\n",
       "      <td>Ayos Informatics, LLC</td>\n",
       "      <td>I started coding in high school and built my first computer at 15, taught myself web development and co-founded a Software business, Ayos Informatics.</td>\n",
       "      <td>[4000470, 390585, 2949941, 5504772, 3161613, 4212194, 5304238, 5740712, 5951139, 3822234, 6027170, 418638]</td>\n",
       "      <td>[4212194, 14830001]</td>\n",
       "      <td>[JavaScript, CSS, Ruby]</td>\n",
       "      <td>[lang_JavaScript] [lang_CSS] [lang_Ruby]</td>\n",
       "      <td>[loc_New York, NY]</td>\n",
       "      <td>I started coding in high school and built my first computer at 15, taught myself web development and co-founded a Software business, Ayos Informatics. [lang_JavaScript] [lang_CSS] [lang_Ruby] [loc_New York, NY]</td>\n",
       "      <td>40.712728</td>\n",
       "      <td>-74.006015</td>\n",
       "      <td>New York, United States</td>\n",
       "      <td>NaN</td>\n",
       "    </tr>\n",
       "  </tbody>\n",
       "</table>\n",
       "<p>52640 rows × 14 columns</p>\n",
       "</div>"
      ],
      "text/plain": [
       "             id                location                      company  \\\n",
       "20438  23715779                      上海                           京东   \n",
       "16361   5284549                 Beijing                          NaN   \n",
       "25420  22819047         Aarhus, Denmark  Aarhus University (student)   \n",
       "13466  18140164                 Beijing                        baidu   \n",
       "22615    765322              Bangladesh               Telenor Health   \n",
       "...         ...                     ...                          ...   \n",
       "1392    3593967  Buenos Aires,Argentina      www.ricardogcolombo.com   \n",
       "21526  13493736      Regina, SK, Canada                          NaN   \n",
       "4297   16360684         Shanghai, China                           za   \n",
       "19181  29157111         Hangzhou, China                          NaN   \n",
       "2856    5861230            New York, NY        Ayos Informatics, LLC   \n",
       "\n",
       "                                                                                                                                                                  bio  \\\n",
       "20438                                                                                                                          Pursue better life with great passion.   \n",
       "16361                                                                                                                                  talk is cheap show me the code   \n",
       "25420  BSc. in cognitive science.\\r\\nFormer machine learning researcher at @unsiloai. \\r\\nR for linear and non-linear statistics.\\r\\nPython and TensorFlow for ML/DL.   \n",
       "13466                                                                                                                       WEB Developer.\\r\\nWorking at @fex-team...   \n",
       "22615                                                                                                                                 Full stack JavaScript developer   \n",
       "...                                                                                                                                                               ...   \n",
       "1392                                                                                                                                    I see code everywhere... \\r\\n   \n",
       "21526                                                                                                                      https://www.somabright.com/p/about-me.html   \n",
       "4297                                                                                                                                                        上善若水，笃学敦行   \n",
       "19181                                                                                                                                                   学而不思则罔 思而不学则殆   \n",
       "2856           I started coding in high school and built my first computer at 15, taught myself web development and co-founded a Software business, Ayos Informatics.   \n",
       "\n",
       "                                                                                                                                                                                                                                                                                                                                                                                                         follower_list  \\\n",
       "20438                                                                                                                                                                                                                                                                                                                                                         [16452711, 4798868, 6508763, 376338, 16770992, 23115833]   \n",
       "16361                                                                                                                      [359395, 6380245, 8436926, 10738412, 9276600, 5006599, 7718424, 4107768, 3604053, 5877145, 15937489, 16177576, 9900022, 12221093, 7844268, 18730602, 7081564, 7699857, 13674772, 13656285, 23456500, 19643593, 16110544, 17630667, 6508763, 27757617, 22447832, 6028123, 3223853, 37007704]   \n",
       "25420                                                                                                                                                                                                                                                                                                                                                                [22818957, 6108197, 26977911, 26725426, 22320997]   \n",
       "13466  [9402574, 6255130, 20765716, 13400243, 24206026, 6807169, 10868742, 25519209, 13002096, 11626454, 23236638, 13282699, 15100664, 1303660, 16147702, 22560819, 8716838, 5704064, 8576686, 12341577, 512805, 15083861, 3427324, 7429593, 11702191, 26621840, 28984645, 20570015, 6508763, 14251570, 7480839, 3103676, 1134651, 30428176, 13698578, 35494467, 24578248, 6647633, 17545800, 16015431, 20266594, 1...   \n",
       "22615  [2048804, 1529567, 2104003, 897424, 454607, 3663724, 869628, 2722232, 6271658, 1806102, 7194049, 3789618, 4057721, 3876178, 8222216, 7165058, 4525049, 746195, 1283998, 2173554, 831997, 3125771, 9364714, 8897830, 1234482, 5007898, 6452893, 2099045, 5006546, 9595659, 1680845, 9613826, 9903051, 2246667, 3756843, 8105846, 10392532, 723362, 10028118, 8043424, 8476851, 11360789, 4346154, 1965024, 67...   \n",
       "...                                                                                                                                                                                                                                                                                                                                                                                                                ...   \n",
       "1392                                                                                                                                                                         [5877145, 10111, 1649260, 5131269, 3604053, 4541773, 4069972, 1402479, 4420832, 5755720, 7635448, 22728539, 25108668, 24560707, 17972943, 17171225, 11867058, 4128909, 6508763, 14251570, 7357679, 25737058, 2609100, 21250813, 15626022]   \n",
       "21526                                                                                                                                                                                                                                                                                                                                              [5877145, 24361527, 17171225, 18068790, 14251570, 22311928, 302215]   \n",
       "4297   [19908809, 19499958, 19526830, 19163507, 22386552, 16571097, 8543429, 12789564, 15718639, 26089446, 24990862, 15682701, 13551340, 18695884, 4863897, 19831373, 17974972, 5392562, 21041458, 22448515, 17669312, 15963480, 644260, 18467823, 2830700, 4797479, 6647266, 24806937, 25787189, 22794688, 18246719, 23137342, 16360059, 20398244, 16712628, 26322322, 20265668, 20642055, 2716092, 25816170, 1652...   \n",
       "19181                                                                                                                                                                                                                                                                               [28613856, 39795489, 38515714, 13826695, 25880361, 17547658, 32569716, 17788836, 15070465, 18069825, 16753554, 21174047, 22208384]   \n",
       "2856                                                                                                                                                                                                                                                                                                        [4000470, 390585, 2949941, 5504772, 3161613, 4212194, 5304238, 5740712, 5951139, 3822234, 6027170, 418638]   \n",
       "\n",
       "                               following_list  \\\n",
       "20438             [190570, 1132815, 16452711]   \n",
       "16361             [1171349, 7081564, 8436926]   \n",
       "25420                               [6108197]   \n",
       "13466  [6255130, 9402574, 10868742, 13400243]   \n",
       "22615                      [2722232, 8197854]   \n",
       "...                                       ...   \n",
       "1392                      [5755720, 17171225]   \n",
       "21526                              [17171225]   \n",
       "4297                     [19499958, 19526830]   \n",
       "19181                              [28613856]   \n",
       "2856                      [4212194, 14830001]   \n",
       "\n",
       "                                                       languages  \\\n",
       "20438                   [CSS, JavaScript, HTML, ApacheConf, Vue]   \n",
       "16361        [Java, Go, Python, PHP, Shell, C, JavaScript, HTML]   \n",
       "25420                               [R, JavaScript, CSS, Python]   \n",
       "13466  [Dart, CSS, C++, Elm, Python, Shell, JavaScript, C, LLVM]   \n",
       "22615   [CSS, Python, Shell, PHP, Objective-C, JavaScript, HTML]   \n",
       "...                                                          ...   \n",
       "1392                       [Smalltalk, C++, Python, TeX, Prolog]   \n",
       "21526                            [CSS, Python, JavaScript, HTML]   \n",
       "4297                    [CSS, PHP, Shell, JavaScript, HTML, Vue]   \n",
       "19181                                     [CSS, JavaScript, Vue]   \n",
       "2856                                     [JavaScript, CSS, Ruby]   \n",
       "\n",
       "                                                                                                        languages_str  \\\n",
       "20438                                           [lang_CSS] [lang_JavaScript] [lang_HTML] [lang_ApacheConf] [lang_Vue]   \n",
       "16361              [lang_Java] [lang_Go] [lang_Python] [lang_PHP] [lang_Shell] [lang_C] [lang_JavaScript] [lang_HTML]   \n",
       "25420                                                             [lang_R] [lang_JavaScript] [lang_CSS] [lang_Python]   \n",
       "13466  [lang_Dart] [lang_CSS] [lang_C++] [lang_Elm] [lang_Python] [lang_Shell] [lang_JavaScript] [lang_C] [lang_LLVM]   \n",
       "22615               [lang_CSS] [lang_Python] [lang_Shell] [lang_PHP] [lang_Objective-C] [lang_JavaScript] [lang_HTML]   \n",
       "...                                                                                                               ...   \n",
       "1392                                               [lang_Smalltalk] [lang_C++] [lang_Python] [lang_TeX] [lang_Prolog]   \n",
       "21526                                                          [lang_CSS] [lang_Python] [lang_JavaScript] [lang_HTML]   \n",
       "4297                                      [lang_CSS] [lang_PHP] [lang_Shell] [lang_JavaScript] [lang_HTML] [lang_Vue]   \n",
       "19181                                                                         [lang_CSS] [lang_JavaScript] [lang_Vue]   \n",
       "2856                                                                         [lang_JavaScript] [lang_CSS] [lang_Ruby]   \n",
       "\n",
       "                       location_str  \\\n",
       "20438                      [loc_上海]   \n",
       "16361                 [loc_Beijing]   \n",
       "25420         [loc_Aarhus, Denmark]   \n",
       "13466                 [loc_Beijing]   \n",
       "22615              [loc_Bangladesh]   \n",
       "...                             ...   \n",
       "1392   [loc_Buenos Aires,Argentina]   \n",
       "21526      [loc_Regina, SK, Canada]   \n",
       "4297          [loc_Shanghai, China]   \n",
       "19181         [loc_Hangzhou, China]   \n",
       "2856             [loc_New York, NY]   \n",
       "\n",
       "                                                                                                                                                                                                                                    clean_input  \\\n",
       "20438                                                                                                                     Pursue better life with great passion. [lang_CSS] [lang_JavaScript] [lang_HTML] [lang_ApacheConf] [lang_Vue] [loc_上海]   \n",
       "16361                                                                                           talk is cheap show me the code [lang_Java] [lang_Go] [lang_Python] [lang_PHP] [lang_Shell] [lang_C] [lang_JavaScript] [lang_HTML] [loc_Beijing]   \n",
       "25420  BSc. in cognitive science.\\r\\nFormer machine learning researcher at @unsiloai. \\r\\nR for linear and non-linear statistics.\\r\\nPython and TensorFlow for ML/DL. [lang_R] [lang_JavaScript] [lang_CSS] [lang_Python] [loc_Aarhus, Denmark]   \n",
       "13466                                                                    WEB Developer.\\r\\nWorking at @fex-team... [lang_Dart] [lang_CSS] [lang_C++] [lang_Elm] [lang_Python] [lang_Shell] [lang_JavaScript] [lang_C] [lang_LLVM] [loc_Beijing]   \n",
       "22615                                                                                        Full stack JavaScript developer [lang_CSS] [lang_Python] [lang_Shell] [lang_PHP] [lang_Objective-C] [lang_JavaScript] [lang_HTML] [loc_Bangladesh]   \n",
       "...                                                                                                                                                                                                                                         ...   \n",
       "1392                                                                                                              I see code everywhere... \\r\\n [lang_Smalltalk] [lang_C++] [lang_Python] [lang_TeX] [lang_Prolog] [loc_Buenos Aires,Argentina]   \n",
       "21526                                                                                                                https://www.somabright.com/p/about-me.html [lang_CSS] [lang_Python] [lang_JavaScript] [lang_HTML] [loc_Regina, SK, Canada]   \n",
       "4297                                                                                                                                上善若水，笃学敦行 [lang_CSS] [lang_PHP] [lang_Shell] [lang_JavaScript] [lang_HTML] [lang_Vue] [loc_Shanghai, China]   \n",
       "19181                                                                                                                                                               学而不思则罔 思而不学则殆 [lang_CSS] [lang_JavaScript] [lang_Vue] [loc_Hangzhou, China]   \n",
       "2856                         I started coding in high school and built my first computer at 15, taught myself web development and co-founded a Software business, Ayos Informatics. [lang_JavaScript] [lang_CSS] [lang_Ruby] [loc_New York, NY]   \n",
       "\n",
       "             lat         lon  \\\n",
       "20438  31.232276  121.469207   \n",
       "16361  39.906217  116.391276   \n",
       "25420  56.149628   10.213405   \n",
       "13466  39.906217  116.391276   \n",
       "22615  24.476929   90.293441   \n",
       "...          ...         ...   \n",
       "1392  -34.607568  -58.437089   \n",
       "21526  50.448760 -104.617310   \n",
       "4297   31.232276  121.469207   \n",
       "19181  30.248963  120.205234   \n",
       "2856   40.712728  -74.006015   \n",
       "\n",
       "                                                             new_location  \\\n",
       "20438                                           上海市, 黄浦区, 上海市, 200001, 中国   \n",
       "16361                                           北京市, 东城区, 北京市, 100010, 中国   \n",
       "25420           Aarhus, Aarhus Kommune, Region Midtjylland, 8000, Danmark   \n",
       "13466                                           北京市, 东城区, 北京市, 100010, 中国   \n",
       "22615                                                            বাংলাদেশ   \n",
       "...                                                                   ...   \n",
       "1392   Buenos Aires, Comuna 6, Ciudad Autónoma de Buenos Aires, Argentina   \n",
       "21526                                        Regina, Saskatchewan, Canada   \n",
       "4297                                            上海市, 黄浦区, 上海市, 200001, 中国   \n",
       "19181                                                        杭州市, 浙江省, 中国   \n",
       "2856                                              New York, United States   \n",
       "\n",
       "                        job  \n",
       "20438                   NaN  \n",
       "16361                   NaN  \n",
       "25420            researcher  \n",
       "13466         web developer  \n",
       "22615  javascript developer  \n",
       "...                     ...  \n",
       "1392                    NaN  \n",
       "21526                   NaN  \n",
       "4297                    NaN  \n",
       "19181                   NaN  \n",
       "2856                    NaN  \n",
       "\n",
       "[52640 rows x 14 columns]"
      ]
     },
     "execution_count": 6,
     "metadata": {},
     "output_type": "execute_result"
    }
   ],
   "source": [
    "existing_users(df, \"following_list\")"
   ]
  },
  {
   "cell_type": "code",
   "execution_count": 9,
   "metadata": {},
   "outputs": [
    {
     "ename": "MemoryError",
     "evalue": "Unable to allocate 5.05 GiB for an array with shape (26033, 26033) and data type float64",
     "output_type": "error",
     "traceback": [
      "\u001b[1;31m---------------------------------------------------------------------------\u001b[0m",
      "\u001b[1;31mMemoryError\u001b[0m                               Traceback (most recent call last)",
      "Cell \u001b[1;32mIn[9], line 13\u001b[0m\n\u001b[0;32m      9\u001b[0m     \u001b[39mreturn\u001b[39;00m merged_list\n\u001b[0;32m     11\u001b[0m lat_lon_values \u001b[39m=\u001b[39m merge(df[\u001b[39m\"\u001b[39m\u001b[39mlat\u001b[39m\u001b[39m\"\u001b[39m]\u001b[39m.\u001b[39mto_numpy(), df[\u001b[39m\"\u001b[39m\u001b[39mlon\u001b[39m\u001b[39m\"\u001b[39m]\u001b[39m.\u001b[39mto_numpy())\n\u001b[1;32m---> 13\u001b[0m distances_matrix \u001b[39m=\u001b[39m nan_euclidean_distances(lat_lon_values, lat_lon_values)\n\u001b[0;32m     14\u001b[0m np\u001b[39m.\u001b[39mnan_to_num(distances_matrix, copy\u001b[39m=\u001b[39m\u001b[39mFalse\u001b[39;00m)\n\u001b[0;32m     15\u001b[0m normed_dist \u001b[39m=\u001b[39m normalize(distances_matrix, norm\u001b[39m=\u001b[39m\u001b[39m\"\u001b[39m\u001b[39ml1\u001b[39m\u001b[39m\"\u001b[39m)\n",
      "File \u001b[1;32mc:\\Users\\jsnsw\\anaconda3\\envs\\recsys\\lib\\site-packages\\sklearn\\metrics\\pairwise.py:474\u001b[0m, in \u001b[0;36mnan_euclidean_distances\u001b[1;34m(X, Y, squared, missing_values, copy)\u001b[0m\n\u001b[0;32m    471\u001b[0m X[missing_X] \u001b[39m=\u001b[39m \u001b[39m0\u001b[39m\n\u001b[0;32m    472\u001b[0m Y[missing_Y] \u001b[39m=\u001b[39m \u001b[39m0\u001b[39m\n\u001b[1;32m--> 474\u001b[0m distances \u001b[39m=\u001b[39m euclidean_distances(X, Y, squared\u001b[39m=\u001b[39;49m\u001b[39mTrue\u001b[39;49;00m)\n\u001b[0;32m    476\u001b[0m \u001b[39m# Adjust distances for missing values\u001b[39;00m\n\u001b[0;32m    477\u001b[0m XX \u001b[39m=\u001b[39m X \u001b[39m*\u001b[39m X\n",
      "File \u001b[1;32mc:\\Users\\jsnsw\\anaconda3\\envs\\recsys\\lib\\site-packages\\sklearn\\metrics\\pairwise.py:328\u001b[0m, in \u001b[0;36meuclidean_distances\u001b[1;34m(X, Y, Y_norm_squared, squared, X_norm_squared)\u001b[0m\n\u001b[0;32m    322\u001b[0m     \u001b[39mif\u001b[39;00m Y_norm_squared\u001b[39m.\u001b[39mshape \u001b[39m!=\u001b[39m (\u001b[39m1\u001b[39m, Y\u001b[39m.\u001b[39mshape[\u001b[39m0\u001b[39m]):\n\u001b[0;32m    323\u001b[0m         \u001b[39mraise\u001b[39;00m \u001b[39mValueError\u001b[39;00m(\n\u001b[0;32m    324\u001b[0m             \u001b[39mf\u001b[39m\u001b[39m\"\u001b[39m\u001b[39mIncompatible dimensions for Y of shape \u001b[39m\u001b[39m{\u001b[39;00mY\u001b[39m.\u001b[39mshape\u001b[39m}\u001b[39;00m\u001b[39m and \u001b[39m\u001b[39m\"\u001b[39m\n\u001b[0;32m    325\u001b[0m             \u001b[39mf\u001b[39m\u001b[39m\"\u001b[39m\u001b[39mY_norm_squared of shape \u001b[39m\u001b[39m{\u001b[39;00moriginal_shape\u001b[39m}\u001b[39;00m\u001b[39m.\u001b[39m\u001b[39m\"\u001b[39m\n\u001b[0;32m    326\u001b[0m         )\n\u001b[1;32m--> 328\u001b[0m \u001b[39mreturn\u001b[39;00m _euclidean_distances(X, Y, X_norm_squared, Y_norm_squared, squared)\n",
      "File \u001b[1;32mc:\\Users\\jsnsw\\anaconda3\\envs\\recsys\\lib\\site-packages\\sklearn\\metrics\\pairwise.py:369\u001b[0m, in \u001b[0;36m_euclidean_distances\u001b[1;34m(X, Y, X_norm_squared, Y_norm_squared, squared)\u001b[0m\n\u001b[0;32m    366\u001b[0m     distances \u001b[39m=\u001b[39m _euclidean_distances_upcast(X, XX, Y, YY)\n\u001b[0;32m    367\u001b[0m \u001b[39melse\u001b[39;00m:\n\u001b[0;32m    368\u001b[0m     \u001b[39m# if dtype is already float64, no need to chunk and upcast\u001b[39;00m\n\u001b[1;32m--> 369\u001b[0m     distances \u001b[39m=\u001b[39m \u001b[39m-\u001b[39m\u001b[39m2\u001b[39m \u001b[39m*\u001b[39m safe_sparse_dot(X, Y\u001b[39m.\u001b[39;49mT, dense_output\u001b[39m=\u001b[39;49m\u001b[39mTrue\u001b[39;49;00m)\n\u001b[0;32m    370\u001b[0m     distances \u001b[39m+\u001b[39m\u001b[39m=\u001b[39m XX\n\u001b[0;32m    371\u001b[0m     distances \u001b[39m+\u001b[39m\u001b[39m=\u001b[39m YY\n",
      "File \u001b[1;32mc:\\Users\\jsnsw\\anaconda3\\envs\\recsys\\lib\\site-packages\\sklearn\\utils\\extmath.py:189\u001b[0m, in \u001b[0;36msafe_sparse_dot\u001b[1;34m(a, b, dense_output)\u001b[0m\n\u001b[0;32m    187\u001b[0m         ret \u001b[39m=\u001b[39m np\u001b[39m.\u001b[39mdot(a, b)\n\u001b[0;32m    188\u001b[0m \u001b[39melse\u001b[39;00m:\n\u001b[1;32m--> 189\u001b[0m     ret \u001b[39m=\u001b[39m a \u001b[39m@\u001b[39;49m b\n\u001b[0;32m    191\u001b[0m \u001b[39mif\u001b[39;00m (\n\u001b[0;32m    192\u001b[0m     sparse\u001b[39m.\u001b[39missparse(a)\n\u001b[0;32m    193\u001b[0m     \u001b[39mand\u001b[39;00m sparse\u001b[39m.\u001b[39missparse(b)\n\u001b[0;32m    194\u001b[0m     \u001b[39mand\u001b[39;00m dense_output\n\u001b[0;32m    195\u001b[0m     \u001b[39mand\u001b[39;00m \u001b[39mhasattr\u001b[39m(ret, \u001b[39m\"\u001b[39m\u001b[39mtoarray\u001b[39m\u001b[39m\"\u001b[39m)\n\u001b[0;32m    196\u001b[0m ):\n\u001b[0;32m    197\u001b[0m     \u001b[39mreturn\u001b[39;00m ret\u001b[39m.\u001b[39mtoarray()\n",
      "\u001b[1;31mMemoryError\u001b[0m: Unable to allocate 5.05 GiB for an array with shape (26033, 26033) and data type float64"
     ]
    }
   ],
   "source": [
    "from sklearn.metrics.pairwise import nan_euclidean_distances\n",
    "from sklearn.preprocessing import normalize\n",
    "from scipy.spatial.distance import cdist\n",
    "\n",
    "def merge(list1, list2):  \n",
    "    # listnp.nan_to_num(list1, copy=True, nan=0.0, posinf=None, neginf=None)\n",
    "    # np.nan_to_num(list2, copy=True, nan=0.0, posinf=None, neginf=None)\n",
    "    merged_list = [(list1[i], list2[i]) for i in range(0, len(list1))]\n",
    "    return merged_list\n",
    "\n",
    "lat_lon_values = merge(df[\"lat\"].to_numpy(), df[\"lon\"].to_numpy())\n",
    "distances_matrix = nan_euclidean_distances(lat_lon_values, lat_lon_values)\n",
    "np.nan_to_num(distances_matrix, copy=False)\n",
    "normed_dist = normalize(distances_matrix, norm=\"l1\")\n",
    "\n",
    "\n"
   ]
  },
  {
   "attachments": {},
   "cell_type": "markdown",
   "metadata": {},
   "source": [
    "### Content-based Filtering"
   ]
  },
  {
   "cell_type": "code",
   "execution_count": 9,
   "metadata": {},
   "outputs": [],
   "source": [
    "vec = TfidfVectorizer(strip_accents=\"unicode\", stop_words=\"english\", min_df=3)\n",
    "vecs = vec.fit_transform(df[\"clean_input\"].apply(lambda x: np.str_(x)))"
   ]
  },
  {
   "cell_type": "code",
   "execution_count": 10,
   "metadata": {},
   "outputs": [],
   "source": [
    "def similarity_by_content(sim):\n",
    "    scores = enumerate(sim)\n",
    "    sorted_scores=sorted(scores,key=lambda x:x[1], reverse=True)\n",
    "    return sorted_scores[0:5]"
   ]
  },
  {
   "cell_type": "code",
   "execution_count": 26,
   "metadata": {},
   "outputs": [
    {
     "data": {
      "text/plain": [
       "[(189, array([0.38791576])),\n",
       " (15901, array([0.36979344])),\n",
       " (18047, array([0.36979344])),\n",
       " (19754, array([0.36979344])),\n",
       " (3478, array([0.36103148]))]"
      ]
     },
     "execution_count": 26,
     "metadata": {},
     "output_type": "execute_result"
    }
   ],
   "source": [
    "# Using User 2000\n",
    "\n",
    "from sklearn.preprocessing import normalize\n",
    "\n",
    "# def normalize(arr, t_min, t_max):\n",
    "#     norm_arr = []\n",
    "#     diff = t_max - t_min\n",
    "#     diff_arr = max(arr) - min(arr)   \n",
    "#     for i in arr:\n",
    "#         temp = (((i - min(arr))*diff)/diff_arr) + t_min\n",
    "#         norm_arr.append(temp)\n",
    "#     return norm_arr\n",
    "\n",
    "# 20% weight for each user\n",
    "def top_5_similarities(following_list, weight=1):\n",
    "    arr_list = []\n",
    "    for user in following_list:\n",
    "        sim = cosine_similarity(vecs, vecs[user])\n",
    "        sim[user] = 0\n",
    "        weighted_sim = (1 * (sim*weight)) # + (0.25 * normed_dist[user])\n",
    "        arr_list.append(weighted_sim)\n",
    "    return sum(arr_list)\n",
    "\n",
    "\n",
    "def get_recent_follows(user):\n",
    "    following = df.loc[user].following_list\n",
    "    return [df[df[\"id\"] == i].index[0] for i in following if not df[df[\"id\"] == i].empty]\n",
    "\n",
    "user_sim = top_5_similarities(get_recent_follows(16000), 0.2)\n",
    "\n",
    "similarity_by_content(user_sim)\n"
   ]
  },
  {
   "cell_type": "code",
   "execution_count": 34,
   "metadata": {},
   "outputs": [
    {
     "data": {
      "text/plain": [
       "id                                                                    26869558\n",
       "location                                                       Berlin, Germany\n",
       "company                                                                    NaN\n",
       "bio                                            Full Stack JavaScript Developer\n",
       "follower_list      [12866783, 26869552, 17891156, 12187795, 6364656, 29039300]\n",
       "following_list                            [11701, 6364656, 12187795, 12866783]\n",
       "languages                                                    [JavaScript, CSS]\n",
       "languages_str                                     [lang_JavaScript] [lang_CSS]\n",
       "location_str                                             [loc_Berlin, Germany]\n",
       "clean_input       Full Stack JavaScript Developer [lang_JavaScript] [lang_CSS]\n",
       "lat                                                                  52.517037\n",
       "lon                                                                   13.38886\n",
       "new_location                                               Berlin, Deutschland\n",
       "job                                                       javascript developer\n",
       "Name: 3478, dtype: object"
      ]
     },
     "execution_count": 34,
     "metadata": {},
     "output_type": "execute_result"
    }
   ],
   "source": [
    "df.iloc[3478]"
   ]
  },
  {
   "cell_type": "code",
   "execution_count": 11,
   "metadata": {},
   "outputs": [
    {
     "name": "stdout",
     "output_type": "stream",
     "text": [
      "[15944, 12014, 7422, 12475, 15616, 6047, 7605, 3403, 1588, 3702]\n"
     ]
    }
   ],
   "source": [
    "# df.iloc[2000].following_list\n",
    "df.iloc[6000].following_list\n",
    "\n",
    "def get_idx_by_id(user):\n",
    "    following_list = df.iloc[user].following_list\n",
    "    return [df[df[\"id\"] == i].index[0] for i in following_list]\n",
    "\n",
    "print(get_idx_by_id(6000))"
   ]
  },
  {
   "attachments": {},
   "cell_type": "markdown",
   "metadata": {},
   "source": [
    "### Collaborative Filtering"
   ]
  },
  {
   "cell_type": "code",
   "execution_count": 24,
   "metadata": {},
   "outputs": [],
   "source": [
    "rs_df_exploded = rs_df[\"following_list\"].explode()"
   ]
  },
  {
   "cell_type": "code",
   "execution_count": 25,
   "metadata": {},
   "outputs": [
    {
     "name": "stderr",
     "output_type": "stream",
     "text": [
      "C:\\Users\\jsnsw\\AppData\\Local\\Temp\\ipykernel_35756\\3199409533.py:1: FutureWarning: In a future version, the Index constructor will not infer numeric dtypes when passed object-dtype sequences (matching Series behavior)\n",
      "  cf_df = pd.get_dummies(rs_df_exploded).groupby(level=0).sum()\n"
     ]
    }
   ],
   "source": [
    "cf_df = pd.get_dummies(rs_df_exploded).groupby(level=0).sum()"
   ]
  },
  {
   "cell_type": "code",
   "execution_count": 54,
   "metadata": {},
   "outputs": [
    {
     "ename": "MemoryError",
     "evalue": "Unable to allocate 3.83 GiB for an array with shape (26033, 19757) and data type float64",
     "output_type": "error",
     "traceback": [
      "\u001b[1;31m---------------------------------------------------------------------------\u001b[0m",
      "\u001b[1;31mMemoryError\u001b[0m                               Traceback (most recent call last)",
      "Cell \u001b[1;32mIn[54], line 16\u001b[0m\n\u001b[0;32m     13\u001b[0m practice_df[\u001b[39m\"\u001b[39m\u001b[39mfollowing_list\u001b[39m\u001b[39m\"\u001b[39m] \u001b[39m=\u001b[39m practice_df[\u001b[39m\"\u001b[39m\u001b[39mfollowing_list\u001b[39m\u001b[39m\"\u001b[39m]\u001b[39m.\u001b[39mapply(\u001b[39mlambda\u001b[39;00m x: [\u001b[39mstr\u001b[39m(i) \u001b[39mfor\u001b[39;00m i \u001b[39min\u001b[39;00m x])\n\u001b[0;32m     14\u001b[0m practice_df[\u001b[39m\"\u001b[39m\u001b[39mfollowing_list\u001b[39m\u001b[39m\"\u001b[39m] \u001b[39m=\u001b[39m practice_df[\u001b[39m\"\u001b[39m\u001b[39mfollowing_list\u001b[39m\u001b[39m\"\u001b[39m]\u001b[39m.\u001b[39mapply(\u001b[39mlambda\u001b[39;00m x: \u001b[39m\"\u001b[39m\u001b[39m, \u001b[39m\u001b[39m\"\u001b[39m\u001b[39m.\u001b[39mjoin(x))\n\u001b[1;32m---> 16\u001b[0m (practice_df\u001b[39m.\u001b[39;49mset_index([\u001b[39m'\u001b[39;49m\u001b[39mid\u001b[39;49m\u001b[39m'\u001b[39;49m])\n\u001b[0;32m     17\u001b[0m         \u001b[39m.\u001b[39;49mfollowing_list\u001b[39m.\u001b[39;49mstr\u001b[39m.\u001b[39;49msplit(\u001b[39m'\u001b[39;49m\u001b[39m,\u001b[39;49m\u001b[39m\\\u001b[39;49m\u001b[39ms*\u001b[39;49m\u001b[39m'\u001b[39;49m, expand\u001b[39m=\u001b[39;49m\u001b[39mTrue\u001b[39;49;00m)\n\u001b[0;32m     18\u001b[0m         \u001b[39m.\u001b[39;49mstack()\n\u001b[0;32m     19\u001b[0m         \u001b[39m.\u001b[39;49mreset_index()\n\u001b[0;32m     20\u001b[0m         \u001b[39m.\u001b[39;49mpivot_table(index\u001b[39m=\u001b[39;49m[\u001b[39m'\u001b[39;49m\u001b[39mid\u001b[39;49m\u001b[39m'\u001b[39;49m], columns\u001b[39m=\u001b[39;49m\u001b[39m0\u001b[39;49m, fill_value\u001b[39m=\u001b[39;49m\u001b[39m0\u001b[39;49m, aggfunc\u001b[39m=\u001b[39;49m\u001b[39m'\u001b[39;49m\u001b[39msize\u001b[39;49m\u001b[39m'\u001b[39;49m)\n\u001b[0;32m     21\u001b[0m    )\n",
      "File \u001b[1;32mc:\\Users\\jsnsw\\anaconda3\\envs\\recsys\\lib\\site-packages\\pandas\\core\\frame.py:8728\u001b[0m, in \u001b[0;36mDataFrame.pivot_table\u001b[1;34m(self, values, index, columns, aggfunc, fill_value, margins, dropna, margins_name, observed, sort)\u001b[0m\n\u001b[0;32m   8711\u001b[0m \u001b[39m@Substitution\u001b[39m(\u001b[39m\"\u001b[39m\u001b[39m\"\u001b[39m)\n\u001b[0;32m   8712\u001b[0m \u001b[39m@Appender\u001b[39m(_shared_docs[\u001b[39m\"\u001b[39m\u001b[39mpivot_table\u001b[39m\u001b[39m\"\u001b[39m])\n\u001b[0;32m   8713\u001b[0m \u001b[39mdef\u001b[39;00m \u001b[39mpivot_table\u001b[39m(\n\u001b[1;32m   (...)\u001b[0m\n\u001b[0;32m   8724\u001b[0m     sort\u001b[39m=\u001b[39m\u001b[39mTrue\u001b[39;00m,\n\u001b[0;32m   8725\u001b[0m ) \u001b[39m-\u001b[39m\u001b[39m>\u001b[39m DataFrame:\n\u001b[0;32m   8726\u001b[0m     \u001b[39mfrom\u001b[39;00m \u001b[39mpandas\u001b[39;00m\u001b[39m.\u001b[39;00m\u001b[39mcore\u001b[39;00m\u001b[39m.\u001b[39;00m\u001b[39mreshape\u001b[39;00m\u001b[39m.\u001b[39;00m\u001b[39mpivot\u001b[39;00m \u001b[39mimport\u001b[39;00m pivot_table\n\u001b[1;32m-> 8728\u001b[0m     \u001b[39mreturn\u001b[39;00m pivot_table(\n\u001b[0;32m   8729\u001b[0m         \u001b[39mself\u001b[39;49m,\n\u001b[0;32m   8730\u001b[0m         values\u001b[39m=\u001b[39;49mvalues,\n\u001b[0;32m   8731\u001b[0m         index\u001b[39m=\u001b[39;49mindex,\n\u001b[0;32m   8732\u001b[0m         columns\u001b[39m=\u001b[39;49mcolumns,\n\u001b[0;32m   8733\u001b[0m         aggfunc\u001b[39m=\u001b[39;49maggfunc,\n\u001b[0;32m   8734\u001b[0m         fill_value\u001b[39m=\u001b[39;49mfill_value,\n\u001b[0;32m   8735\u001b[0m         margins\u001b[39m=\u001b[39;49mmargins,\n\u001b[0;32m   8736\u001b[0m         dropna\u001b[39m=\u001b[39;49mdropna,\n\u001b[0;32m   8737\u001b[0m         margins_name\u001b[39m=\u001b[39;49mmargins_name,\n\u001b[0;32m   8738\u001b[0m         observed\u001b[39m=\u001b[39;49mobserved,\n\u001b[0;32m   8739\u001b[0m         sort\u001b[39m=\u001b[39;49msort,\n\u001b[0;32m   8740\u001b[0m     )\n",
      "File \u001b[1;32mc:\\Users\\jsnsw\\anaconda3\\envs\\recsys\\lib\\site-packages\\pandas\\core\\reshape\\pivot.py:97\u001b[0m, in \u001b[0;36mpivot_table\u001b[1;34m(data, values, index, columns, aggfunc, fill_value, margins, dropna, margins_name, observed, sort)\u001b[0m\n\u001b[0;32m     94\u001b[0m     table \u001b[39m=\u001b[39m concat(pieces, keys\u001b[39m=\u001b[39mkeys, axis\u001b[39m=\u001b[39m\u001b[39m1\u001b[39m)\n\u001b[0;32m     95\u001b[0m     \u001b[39mreturn\u001b[39;00m table\u001b[39m.\u001b[39m__finalize__(data, method\u001b[39m=\u001b[39m\u001b[39m\"\u001b[39m\u001b[39mpivot_table\u001b[39m\u001b[39m\"\u001b[39m)\n\u001b[1;32m---> 97\u001b[0m table \u001b[39m=\u001b[39m __internal_pivot_table(\n\u001b[0;32m     98\u001b[0m     data,\n\u001b[0;32m     99\u001b[0m     values,\n\u001b[0;32m    100\u001b[0m     index,\n\u001b[0;32m    101\u001b[0m     columns,\n\u001b[0;32m    102\u001b[0m     aggfunc,\n\u001b[0;32m    103\u001b[0m     fill_value,\n\u001b[0;32m    104\u001b[0m     margins,\n\u001b[0;32m    105\u001b[0m     dropna,\n\u001b[0;32m    106\u001b[0m     margins_name,\n\u001b[0;32m    107\u001b[0m     observed,\n\u001b[0;32m    108\u001b[0m     sort,\n\u001b[0;32m    109\u001b[0m )\n\u001b[0;32m    110\u001b[0m \u001b[39mreturn\u001b[39;00m table\u001b[39m.\u001b[39m__finalize__(data, method\u001b[39m=\u001b[39m\u001b[39m\"\u001b[39m\u001b[39mpivot_table\u001b[39m\u001b[39m\"\u001b[39m)\n",
      "File \u001b[1;32mc:\\Users\\jsnsw\\anaconda3\\envs\\recsys\\lib\\site-packages\\pandas\\core\\reshape\\pivot.py:238\u001b[0m, in \u001b[0;36m__internal_pivot_table\u001b[1;34m(data, values, index, columns, aggfunc, fill_value, margins, dropna, margins_name, observed, sort)\u001b[0m\n\u001b[0;32m    235\u001b[0m     table \u001b[39m=\u001b[39m table\u001b[39m.\u001b[39msort_index(axis\u001b[39m=\u001b[39m\u001b[39m1\u001b[39m)\n\u001b[0;32m    237\u001b[0m \u001b[39mif\u001b[39;00m fill_value \u001b[39mis\u001b[39;00m \u001b[39mnot\u001b[39;00m \u001b[39mNone\u001b[39;00m:\n\u001b[1;32m--> 238\u001b[0m     table \u001b[39m=\u001b[39m table\u001b[39m.\u001b[39;49mfillna(fill_value, downcast\u001b[39m=\u001b[39;49m\u001b[39m\"\u001b[39;49m\u001b[39minfer\u001b[39;49m\u001b[39m\"\u001b[39;49m)\n\u001b[0;32m    240\u001b[0m \u001b[39mif\u001b[39;00m margins:\n\u001b[0;32m    241\u001b[0m     \u001b[39mif\u001b[39;00m dropna:\n",
      "File \u001b[1;32mc:\\Users\\jsnsw\\anaconda3\\envs\\recsys\\lib\\site-packages\\pandas\\util\\_decorators.py:331\u001b[0m, in \u001b[0;36mdeprecate_nonkeyword_arguments.<locals>.decorate.<locals>.wrapper\u001b[1;34m(*args, **kwargs)\u001b[0m\n\u001b[0;32m    325\u001b[0m \u001b[39mif\u001b[39;00m \u001b[39mlen\u001b[39m(args) \u001b[39m>\u001b[39m num_allow_args:\n\u001b[0;32m    326\u001b[0m     warnings\u001b[39m.\u001b[39mwarn(\n\u001b[0;32m    327\u001b[0m         msg\u001b[39m.\u001b[39mformat(arguments\u001b[39m=\u001b[39m_format_argument_list(allow_args)),\n\u001b[0;32m    328\u001b[0m         \u001b[39mFutureWarning\u001b[39;00m,\n\u001b[0;32m    329\u001b[0m         stacklevel\u001b[39m=\u001b[39mfind_stack_level(),\n\u001b[0;32m    330\u001b[0m     )\n\u001b[1;32m--> 331\u001b[0m \u001b[39mreturn\u001b[39;00m func(\u001b[39m*\u001b[39margs, \u001b[39m*\u001b[39m\u001b[39m*\u001b[39mkwargs)\n",
      "File \u001b[1;32mc:\\Users\\jsnsw\\anaconda3\\envs\\recsys\\lib\\site-packages\\pandas\\core\\frame.py:5632\u001b[0m, in \u001b[0;36mDataFrame.fillna\u001b[1;34m(self, value, method, axis, inplace, limit, downcast)\u001b[0m\n\u001b[0;32m   5621\u001b[0m \u001b[39m@deprecate_nonkeyword_arguments\u001b[39m(version\u001b[39m=\u001b[39m\u001b[39mNone\u001b[39;00m, allowed_args\u001b[39m=\u001b[39m[\u001b[39m\"\u001b[39m\u001b[39mself\u001b[39m\u001b[39m\"\u001b[39m, \u001b[39m\"\u001b[39m\u001b[39mvalue\u001b[39m\u001b[39m\"\u001b[39m])\n\u001b[0;32m   5622\u001b[0m \u001b[39m@doc\u001b[39m(NDFrame\u001b[39m.\u001b[39mfillna, \u001b[39m*\u001b[39m\u001b[39m*\u001b[39m_shared_doc_kwargs)\n\u001b[0;32m   5623\u001b[0m \u001b[39mdef\u001b[39;00m \u001b[39mfillna\u001b[39m(  \u001b[39m# type: ignore[override]\u001b[39;00m\n\u001b[1;32m   (...)\u001b[0m\n\u001b[0;32m   5630\u001b[0m     downcast: \u001b[39mdict\u001b[39m \u001b[39m|\u001b[39m \u001b[39mNone\u001b[39;00m \u001b[39m=\u001b[39m \u001b[39mNone\u001b[39;00m,\n\u001b[0;32m   5631\u001b[0m ) \u001b[39m-\u001b[39m\u001b[39m>\u001b[39m DataFrame \u001b[39m|\u001b[39m \u001b[39mNone\u001b[39;00m:\n\u001b[1;32m-> 5632\u001b[0m     \u001b[39mreturn\u001b[39;00m \u001b[39msuper\u001b[39;49m()\u001b[39m.\u001b[39;49mfillna(\n\u001b[0;32m   5633\u001b[0m         value\u001b[39m=\u001b[39;49mvalue,\n\u001b[0;32m   5634\u001b[0m         method\u001b[39m=\u001b[39;49mmethod,\n\u001b[0;32m   5635\u001b[0m         axis\u001b[39m=\u001b[39;49maxis,\n\u001b[0;32m   5636\u001b[0m         inplace\u001b[39m=\u001b[39;49minplace,\n\u001b[0;32m   5637\u001b[0m         limit\u001b[39m=\u001b[39;49mlimit,\n\u001b[0;32m   5638\u001b[0m         downcast\u001b[39m=\u001b[39;49mdowncast,\n\u001b[0;32m   5639\u001b[0m     )\n",
      "File \u001b[1;32mc:\\Users\\jsnsw\\anaconda3\\envs\\recsys\\lib\\site-packages\\pandas\\core\\generic.py:6922\u001b[0m, in \u001b[0;36mNDFrame.fillna\u001b[1;34m(self, value, method, axis, inplace, limit, downcast)\u001b[0m\n\u001b[0;32m   6919\u001b[0m         new_data \u001b[39m=\u001b[39m result  \u001b[39m# type: ignore[assignment]\u001b[39;00m\n\u001b[0;32m   6920\u001b[0m     \u001b[39melse\u001b[39;00m:\n\u001b[1;32m-> 6922\u001b[0m         new_data \u001b[39m=\u001b[39m \u001b[39mself\u001b[39;49m\u001b[39m.\u001b[39;49m_mgr\u001b[39m.\u001b[39;49mfillna(\n\u001b[0;32m   6923\u001b[0m             value\u001b[39m=\u001b[39;49mvalue, limit\u001b[39m=\u001b[39;49mlimit, inplace\u001b[39m=\u001b[39;49minplace, downcast\u001b[39m=\u001b[39;49mdowncast\n\u001b[0;32m   6924\u001b[0m         )\n\u001b[0;32m   6925\u001b[0m \u001b[39melif\u001b[39;00m \u001b[39misinstance\u001b[39m(value, ABCDataFrame) \u001b[39mand\u001b[39;00m \u001b[39mself\u001b[39m\u001b[39m.\u001b[39mndim \u001b[39m==\u001b[39m \u001b[39m2\u001b[39m:\n\u001b[0;32m   6927\u001b[0m     new_data \u001b[39m=\u001b[39m \u001b[39mself\u001b[39m\u001b[39m.\u001b[39mwhere(\u001b[39mself\u001b[39m\u001b[39m.\u001b[39mnotna(), value)\u001b[39m.\u001b[39m_mgr\n",
      "File \u001b[1;32mc:\\Users\\jsnsw\\anaconda3\\envs\\recsys\\lib\\site-packages\\pandas\\core\\internals\\managers.py:445\u001b[0m, in \u001b[0;36mBaseBlockManager.fillna\u001b[1;34m(self, value, limit, inplace, downcast)\u001b[0m\n\u001b[0;32m    440\u001b[0m     \u001b[39mif\u001b[39;00m _using_copy_on_write() \u001b[39mand\u001b[39;00m \u001b[39many\u001b[39m(\n\u001b[0;32m    441\u001b[0m         \u001b[39mnot\u001b[39;00m \u001b[39mself\u001b[39m\u001b[39m.\u001b[39m_has_no_reference_block(i) \u001b[39mfor\u001b[39;00m i \u001b[39min\u001b[39;00m \u001b[39mrange\u001b[39m(\u001b[39mlen\u001b[39m(\u001b[39mself\u001b[39m\u001b[39m.\u001b[39mblocks))\n\u001b[0;32m    442\u001b[0m     ):\n\u001b[0;32m    443\u001b[0m         \u001b[39mself\u001b[39m \u001b[39m=\u001b[39m \u001b[39mself\u001b[39m\u001b[39m.\u001b[39mcopy()\n\u001b[1;32m--> 445\u001b[0m \u001b[39mreturn\u001b[39;00m \u001b[39mself\u001b[39;49m\u001b[39m.\u001b[39;49mapply(\n\u001b[0;32m    446\u001b[0m     \u001b[39m\"\u001b[39;49m\u001b[39mfillna\u001b[39;49m\u001b[39m\"\u001b[39;49m, value\u001b[39m=\u001b[39;49mvalue, limit\u001b[39m=\u001b[39;49mlimit, inplace\u001b[39m=\u001b[39;49minplace, downcast\u001b[39m=\u001b[39;49mdowncast\n\u001b[0;32m    447\u001b[0m )\n",
      "File \u001b[1;32mc:\\Users\\jsnsw\\anaconda3\\envs\\recsys\\lib\\site-packages\\pandas\\core\\internals\\managers.py:352\u001b[0m, in \u001b[0;36mBaseBlockManager.apply\u001b[1;34m(self, f, align_keys, ignore_failures, **kwargs)\u001b[0m\n\u001b[0;32m    350\u001b[0m         applied \u001b[39m=\u001b[39m b\u001b[39m.\u001b[39mapply(f, \u001b[39m*\u001b[39m\u001b[39m*\u001b[39mkwargs)\n\u001b[0;32m    351\u001b[0m     \u001b[39melse\u001b[39;00m:\n\u001b[1;32m--> 352\u001b[0m         applied \u001b[39m=\u001b[39m \u001b[39mgetattr\u001b[39m(b, f)(\u001b[39m*\u001b[39m\u001b[39m*\u001b[39mkwargs)\n\u001b[0;32m    353\u001b[0m \u001b[39mexcept\u001b[39;00m (\u001b[39mTypeError\u001b[39;00m, \u001b[39mNotImplementedError\u001b[39;00m):\n\u001b[0;32m    354\u001b[0m     \u001b[39mif\u001b[39;00m \u001b[39mnot\u001b[39;00m ignore_failures:\n",
      "File \u001b[1;32mc:\\Users\\jsnsw\\anaconda3\\envs\\recsys\\lib\\site-packages\\pandas\\core\\internals\\blocks.py:1200\u001b[0m, in \u001b[0;36mBlock.fillna\u001b[1;34m(self, value, limit, inplace, downcast)\u001b[0m\n\u001b[0;32m   1196\u001b[0m     nbs \u001b[39m=\u001b[39m \u001b[39mself\u001b[39m\u001b[39m.\u001b[39mputmask(mask\u001b[39m.\u001b[39mT, value)\n\u001b[0;32m   1197\u001b[0m \u001b[39melse\u001b[39;00m:\n\u001b[0;32m   1198\u001b[0m     \u001b[39m# without _downcast, we would break\u001b[39;00m\n\u001b[0;32m   1199\u001b[0m     \u001b[39m#  test_fillna_dtype_conversion_equiv_replace\u001b[39;00m\n\u001b[1;32m-> 1200\u001b[0m     nbs \u001b[39m=\u001b[39m \u001b[39mself\u001b[39;49m\u001b[39m.\u001b[39;49mwhere(value, \u001b[39m~\u001b[39;49mmask\u001b[39m.\u001b[39;49mT, _downcast\u001b[39m=\u001b[39;49m\u001b[39mFalse\u001b[39;49;00m)\n\u001b[0;32m   1202\u001b[0m \u001b[39m# Note: blk._maybe_downcast vs self._maybe_downcast(nbs)\u001b[39;00m\n\u001b[0;32m   1203\u001b[0m \u001b[39m#  makes a difference bc blk may have object dtype, which has\u001b[39;00m\n\u001b[0;32m   1204\u001b[0m \u001b[39m#  different behavior in _maybe_downcast.\u001b[39;00m\n\u001b[0;32m   1205\u001b[0m \u001b[39mreturn\u001b[39;00m extend_blocks(\n\u001b[0;32m   1206\u001b[0m     [blk\u001b[39m.\u001b[39m_maybe_downcast([blk], downcast\u001b[39m=\u001b[39mdowncast) \u001b[39mfor\u001b[39;00m blk \u001b[39min\u001b[39;00m nbs]\n\u001b[0;32m   1207\u001b[0m )\n",
      "File \u001b[1;32mc:\\Users\\jsnsw\\anaconda3\\envs\\recsys\\lib\\site-packages\\pandas\\core\\internals\\blocks.py:1154\u001b[0m, in \u001b[0;36mBlock.where\u001b[1;34m(self, other, cond, _downcast)\u001b[0m\n\u001b[0;32m   1149\u001b[0m             other \u001b[39m=\u001b[39m np\u001b[39m.\u001b[39marray(other)\u001b[39m.\u001b[39mreshape(values\u001b[39m.\u001b[39mshape)\n\u001b[0;32m   1150\u001b[0m             \u001b[39m# If lengths don't match (or len(other)==1), we will raise\u001b[39;00m\n\u001b[0;32m   1151\u001b[0m             \u001b[39m#  inside expressions.where, see test_series_where\u001b[39;00m\n\u001b[0;32m   1152\u001b[0m \n\u001b[0;32m   1153\u001b[0m         \u001b[39m# Note: expressions.where may upcast.\u001b[39;00m\n\u001b[1;32m-> 1154\u001b[0m         result \u001b[39m=\u001b[39m expressions\u001b[39m.\u001b[39;49mwhere(\u001b[39m~\u001b[39;49micond, values, other)\n\u001b[0;32m   1155\u001b[0m         \u001b[39m# The np_can_hold_element check _should_ ensure that we always\u001b[39;00m\n\u001b[0;32m   1156\u001b[0m         \u001b[39m#  have result.dtype == self.dtype here.\u001b[39;00m\n\u001b[0;32m   1158\u001b[0m \u001b[39mif\u001b[39;00m transpose:\n",
      "File \u001b[1;32mc:\\Users\\jsnsw\\anaconda3\\envs\\recsys\\lib\\site-packages\\pandas\\core\\computation\\expressions.py:258\u001b[0m, in \u001b[0;36mwhere\u001b[1;34m(cond, a, b, use_numexpr)\u001b[0m\n\u001b[0;32m    246\u001b[0m \u001b[39m\"\"\"\u001b[39;00m\n\u001b[0;32m    247\u001b[0m \u001b[39mEvaluate the where condition cond on a and b.\u001b[39;00m\n\u001b[0;32m    248\u001b[0m \n\u001b[1;32m   (...)\u001b[0m\n\u001b[0;32m    255\u001b[0m \u001b[39m    Whether to try to use numexpr.\u001b[39;00m\n\u001b[0;32m    256\u001b[0m \u001b[39m\"\"\"\u001b[39;00m\n\u001b[0;32m    257\u001b[0m \u001b[39massert\u001b[39;00m _where \u001b[39mis\u001b[39;00m \u001b[39mnot\u001b[39;00m \u001b[39mNone\u001b[39;00m\n\u001b[1;32m--> 258\u001b[0m \u001b[39mreturn\u001b[39;00m _where(cond, a, b) \u001b[39mif\u001b[39;00m use_numexpr \u001b[39melse\u001b[39;00m _where_standard(cond, a, b)\n",
      "File \u001b[1;32mc:\\Users\\jsnsw\\anaconda3\\envs\\recsys\\lib\\site-packages\\pandas\\core\\computation\\expressions.py:181\u001b[0m, in \u001b[0;36m_where_numexpr\u001b[1;34m(cond, a, b)\u001b[0m\n\u001b[0;32m    177\u001b[0m result \u001b[39m=\u001b[39m \u001b[39mNone\u001b[39;00m\n\u001b[0;32m    179\u001b[0m \u001b[39mif\u001b[39;00m _can_use_numexpr(\u001b[39mNone\u001b[39;00m, \u001b[39m\"\u001b[39m\u001b[39mwhere\u001b[39m\u001b[39m\"\u001b[39m, a, b, \u001b[39m\"\u001b[39m\u001b[39mwhere\u001b[39m\u001b[39m\"\u001b[39m):\n\u001b[1;32m--> 181\u001b[0m     result \u001b[39m=\u001b[39m ne\u001b[39m.\u001b[39;49mevaluate(\n\u001b[0;32m    182\u001b[0m         \u001b[39m\"\u001b[39;49m\u001b[39mwhere(cond_value, a_value, b_value)\u001b[39;49m\u001b[39m\"\u001b[39;49m,\n\u001b[0;32m    183\u001b[0m         local_dict\u001b[39m=\u001b[39;49m{\u001b[39m\"\u001b[39;49m\u001b[39mcond_value\u001b[39;49m\u001b[39m\"\u001b[39;49m: cond, \u001b[39m\"\u001b[39;49m\u001b[39ma_value\u001b[39;49m\u001b[39m\"\u001b[39;49m: a, \u001b[39m\"\u001b[39;49m\u001b[39mb_value\u001b[39;49m\u001b[39m\"\u001b[39;49m: b},\n\u001b[0;32m    184\u001b[0m         casting\u001b[39m=\u001b[39;49m\u001b[39m\"\u001b[39;49m\u001b[39msafe\u001b[39;49m\u001b[39m\"\u001b[39;49m,\n\u001b[0;32m    185\u001b[0m     )\n\u001b[0;32m    187\u001b[0m \u001b[39mif\u001b[39;00m result \u001b[39mis\u001b[39;00m \u001b[39mNone\u001b[39;00m:\n\u001b[0;32m    188\u001b[0m     result \u001b[39m=\u001b[39m _where_standard(cond, a, b)\n",
      "File \u001b[1;32mc:\\Users\\jsnsw\\anaconda3\\envs\\recsys\\lib\\site-packages\\numexpr\\necompiler.py:835\u001b[0m, in \u001b[0;36mevaluate\u001b[1;34m(ex, local_dict, global_dict, out, order, casting, **kwargs)\u001b[0m\n\u001b[0;32m    833\u001b[0m _numexpr_last \u001b[39m=\u001b[39m \u001b[39mdict\u001b[39m(ex\u001b[39m=\u001b[39mcompiled_ex, argnames\u001b[39m=\u001b[39mnames, kwargs\u001b[39m=\u001b[39mkwargs)\n\u001b[0;32m    834\u001b[0m \u001b[39mwith\u001b[39;00m evaluate_lock:\n\u001b[1;32m--> 835\u001b[0m     \u001b[39mreturn\u001b[39;00m compiled_ex(\u001b[39m*\u001b[39marguments, \u001b[39m*\u001b[39m\u001b[39m*\u001b[39mkwargs)\n",
      "\u001b[1;31mMemoryError\u001b[0m: Unable to allocate 3.83 GiB for an array with shape (26033, 19757) and data type float64"
     ]
    }
   ],
   "source": [
    "\n",
    "test_df = pd.DataFrame({\"ID\": [\"PRODUCTS A\", \"PRODUCTS B\", \"PRODUCTS C\"], \n",
    "                       \"DATE\": [2016-9-12, 2016-9-12, 2016-9-12], \n",
    "                       \"DESCRIPTION\": [\"1, 2, 3, 4, 5\", \"Blue, Lightweight, Steel\", \"Red\"]\n",
    "\n",
    "})\n",
    "\n",
    "\n",
    "\n",
    "\n",
    "\n",
    "practice_df = df.copy()\n",
    "\n",
    "practice_df[\"following_list\"] = practice_df[\"following_list\"].apply(lambda x: [str(i) for i in x])\n",
    "practice_df[\"following_list\"] = practice_df[\"following_list\"].apply(lambda x: \", \".join(x))\n",
    "\n",
    "practice_df = practice_df[[\"id\", \"following_list\"]]\n",
    "\n",
    "(practice_df.set_index(['id'])\n",
    "        .following_list.str.split(',\\s*', expand=True)\n",
    "        .stack()\n",
    "        .reset_index()\n",
    "        .pivot_table(index=['id'], columns=0, fill_value=0, aggfunc='size')\n",
    "   )"
   ]
  },
  {
   "cell_type": "code",
   "execution_count": 44,
   "metadata": {},
   "outputs": [
    {
     "ename": "MemoryError",
     "evalue": "Unable to allocate 5.05 GiB for an array with shape (26033, 26033) and data type float64",
     "output_type": "error",
     "traceback": [
      "\u001b[1;31m---------------------------------------------------------------------------\u001b[0m",
      "\u001b[1;31mMemoryError\u001b[0m                               Traceback (most recent call last)",
      "Cell \u001b[1;32mIn[44], line 3\u001b[0m\n\u001b[0;32m      1\u001b[0m \u001b[39mfrom\u001b[39;00m \u001b[39mscipy\u001b[39;00m\u001b[39m.\u001b[39;00m\u001b[39msparse\u001b[39;00m \u001b[39mimport\u001b[39;00m csr_array\n\u001b[1;32m----> 3\u001b[0m profile_sim_score_matrix \u001b[39m=\u001b[39m np\u001b[39m.\u001b[39;49mzeros((\u001b[39mlen\u001b[39;49m(df\u001b[39m.\u001b[39;49mindex), \u001b[39mlen\u001b[39;49m(df\u001b[39m.\u001b[39;49mindex)))\n\u001b[0;32m      4\u001b[0m profile_sim_score_matrix\n\u001b[0;32m      6\u001b[0m count \u001b[39m=\u001b[39m \u001b[39m0\u001b[39m\n",
      "\u001b[1;31mMemoryError\u001b[0m: Unable to allocate 5.05 GiB for an array with shape (26033, 26033) and data type float64"
     ]
    }
   ],
   "source": [
    "from scipy.sparse import csr_array\n",
    "\n",
    "profile_sim_score_matrix = np.zeros((len(df.index), len(df.index)))\n",
    "profile_sim_score_matrix\n",
    "\n",
    "count = 0\n",
    "for x in range(len(df.index)):\n",
    "    for y in df.iloc[x].following_list:\n",
    "        match = df[df[\"id\"] == y]\n",
    "        if not match.empty:\n",
    "            profile_sim_score_matrix[x, match.index] = 1\n",
    "            count += 1\n",
    "print(count)\n",
    "\n",
    "following_matrix = csr_array(profile_sim_score_matrix)"
   ]
  },
  {
   "cell_type": "code",
   "execution_count": 40,
   "metadata": {},
   "outputs": [
    {
     "data": {
      "text/plain": [
       "<26033x5056 sparse matrix of type '<class 'numpy.float64'>'\n",
       "\twith 271951 stored elements in Compressed Sparse Row format>"
      ]
     },
     "execution_count": 40,
     "metadata": {},
     "output_type": "execute_result"
    }
   ],
   "source": [
    "profile_sim_score_matrix[100]"
   ]
  },
  {
   "cell_type": "code",
   "execution_count": 35,
   "metadata": {},
   "outputs": [],
   "source": [
    "def recommend_by_following(userId):\n",
    "    profile_cs = cosine_similarity(profile_sim_score_matrix, profile_sim_score_matrix[userId])\n",
    "    scores = list(enumerate(profile_cs[userId]))\n",
    "    sorted_scores=sorted(scores,key=lambda x:x[1], reverse=True)\n",
    "    sorted_scores=[i for i in sorted_scores if i[0] != userId]\n",
    "    return sorted_scores[0:5]"
   ]
  },
  {
   "cell_type": "code",
   "execution_count": 37,
   "metadata": {},
   "outputs": [
    {
     "ename": "ValueError",
     "evalue": "Expected 2D array, got 1D array instead:\narray=[0. 0. 0. ... 0. 0. 0.].\nReshape your data either using array.reshape(-1, 1) if your data has a single feature or array.reshape(1, -1) if it contains a single sample.",
     "output_type": "error",
     "traceback": [
      "\u001b[1;31m---------------------------------------------------------------------------\u001b[0m",
      "\u001b[1;31mValueError\u001b[0m                                Traceback (most recent call last)",
      "Cell \u001b[1;32mIn[37], line 1\u001b[0m\n\u001b[1;32m----> 1\u001b[0m recommend_by_following(\u001b[39m6000\u001b[39;49m)\n",
      "Cell \u001b[1;32mIn[35], line 2\u001b[0m, in \u001b[0;36mrecommend_by_following\u001b[1;34m(userId)\u001b[0m\n\u001b[0;32m      1\u001b[0m \u001b[39mdef\u001b[39;00m \u001b[39mrecommend_by_following\u001b[39m(userId):\n\u001b[1;32m----> 2\u001b[0m     profile_cs \u001b[39m=\u001b[39m cosine_similarity(profile_sim_score_matrix, profile_sim_score_matrix[userId])\n\u001b[0;32m      3\u001b[0m     scores \u001b[39m=\u001b[39m \u001b[39mlist\u001b[39m(\u001b[39menumerate\u001b[39m(profile_cs[userId]))\n\u001b[0;32m      4\u001b[0m     sorted_scores\u001b[39m=\u001b[39m\u001b[39msorted\u001b[39m(scores,key\u001b[39m=\u001b[39m\u001b[39mlambda\u001b[39;00m x:x[\u001b[39m1\u001b[39m], reverse\u001b[39m=\u001b[39m\u001b[39mTrue\u001b[39;00m)\n",
      "File \u001b[1;32mc:\\Users\\jsnsw\\anaconda3\\envs\\recsys\\lib\\site-packages\\sklearn\\metrics\\pairwise.py:1393\u001b[0m, in \u001b[0;36mcosine_similarity\u001b[1;34m(X, Y, dense_output)\u001b[0m\n\u001b[0;32m   1358\u001b[0m \u001b[39m\"\"\"Compute cosine similarity between samples in X and Y.\u001b[39;00m\n\u001b[0;32m   1359\u001b[0m \n\u001b[0;32m   1360\u001b[0m \u001b[39mCosine similarity, or the cosine kernel, computes similarity as the\u001b[39;00m\n\u001b[1;32m   (...)\u001b[0m\n\u001b[0;32m   1389\u001b[0m \u001b[39m    Returns the cosine similarity between samples in X and Y.\u001b[39;00m\n\u001b[0;32m   1390\u001b[0m \u001b[39m\"\"\"\u001b[39;00m\n\u001b[0;32m   1391\u001b[0m \u001b[39m# to avoid recursive import\u001b[39;00m\n\u001b[1;32m-> 1393\u001b[0m X, Y \u001b[39m=\u001b[39m check_pairwise_arrays(X, Y)\n\u001b[0;32m   1395\u001b[0m X_normalized \u001b[39m=\u001b[39m normalize(X, copy\u001b[39m=\u001b[39m\u001b[39mTrue\u001b[39;00m)\n\u001b[0;32m   1396\u001b[0m \u001b[39mif\u001b[39;00m X \u001b[39mis\u001b[39;00m Y:\n",
      "File \u001b[1;32mc:\\Users\\jsnsw\\anaconda3\\envs\\recsys\\lib\\site-packages\\sklearn\\metrics\\pairwise.py:163\u001b[0m, in \u001b[0;36mcheck_pairwise_arrays\u001b[1;34m(X, Y, precomputed, dtype, accept_sparse, force_all_finite, copy)\u001b[0m\n\u001b[0;32m    154\u001b[0m \u001b[39melse\u001b[39;00m:\n\u001b[0;32m    155\u001b[0m     X \u001b[39m=\u001b[39m check_array(\n\u001b[0;32m    156\u001b[0m         X,\n\u001b[0;32m    157\u001b[0m         accept_sparse\u001b[39m=\u001b[39maccept_sparse,\n\u001b[1;32m   (...)\u001b[0m\n\u001b[0;32m    161\u001b[0m         estimator\u001b[39m=\u001b[39mestimator,\n\u001b[0;32m    162\u001b[0m     )\n\u001b[1;32m--> 163\u001b[0m     Y \u001b[39m=\u001b[39m check_array(\n\u001b[0;32m    164\u001b[0m         Y,\n\u001b[0;32m    165\u001b[0m         accept_sparse\u001b[39m=\u001b[39;49maccept_sparse,\n\u001b[0;32m    166\u001b[0m         dtype\u001b[39m=\u001b[39;49mdtype,\n\u001b[0;32m    167\u001b[0m         copy\u001b[39m=\u001b[39;49mcopy,\n\u001b[0;32m    168\u001b[0m         force_all_finite\u001b[39m=\u001b[39;49mforce_all_finite,\n\u001b[0;32m    169\u001b[0m         estimator\u001b[39m=\u001b[39;49mestimator,\n\u001b[0;32m    170\u001b[0m     )\n\u001b[0;32m    172\u001b[0m \u001b[39mif\u001b[39;00m precomputed:\n\u001b[0;32m    173\u001b[0m     \u001b[39mif\u001b[39;00m X\u001b[39m.\u001b[39mshape[\u001b[39m1\u001b[39m] \u001b[39m!=\u001b[39m Y\u001b[39m.\u001b[39mshape[\u001b[39m0\u001b[39m]:\n",
      "File \u001b[1;32mc:\\Users\\jsnsw\\anaconda3\\envs\\recsys\\lib\\site-packages\\sklearn\\utils\\validation.py:900\u001b[0m, in \u001b[0;36mcheck_array\u001b[1;34m(array, accept_sparse, accept_large_sparse, dtype, order, copy, force_all_finite, ensure_2d, allow_nd, ensure_min_samples, ensure_min_features, estimator, input_name)\u001b[0m\n\u001b[0;32m    898\u001b[0m     \u001b[39m# If input is 1D raise error\u001b[39;00m\n\u001b[0;32m    899\u001b[0m     \u001b[39mif\u001b[39;00m array\u001b[39m.\u001b[39mndim \u001b[39m==\u001b[39m \u001b[39m1\u001b[39m:\n\u001b[1;32m--> 900\u001b[0m         \u001b[39mraise\u001b[39;00m \u001b[39mValueError\u001b[39;00m(\n\u001b[0;32m    901\u001b[0m             \u001b[39m\"\u001b[39m\u001b[39mExpected 2D array, got 1D array instead:\u001b[39m\u001b[39m\\n\u001b[39;00m\u001b[39marray=\u001b[39m\u001b[39m{}\u001b[39;00m\u001b[39m.\u001b[39m\u001b[39m\\n\u001b[39;00m\u001b[39m\"\u001b[39m\n\u001b[0;32m    902\u001b[0m             \u001b[39m\"\u001b[39m\u001b[39mReshape your data either using array.reshape(-1, 1) if \u001b[39m\u001b[39m\"\u001b[39m\n\u001b[0;32m    903\u001b[0m             \u001b[39m\"\u001b[39m\u001b[39myour data has a single feature or array.reshape(1, -1) \u001b[39m\u001b[39m\"\u001b[39m\n\u001b[0;32m    904\u001b[0m             \u001b[39m\"\u001b[39m\u001b[39mif it contains a single sample.\u001b[39m\u001b[39m\"\u001b[39m\u001b[39m.\u001b[39mformat(array)\n\u001b[0;32m    905\u001b[0m         )\n\u001b[0;32m    907\u001b[0m \u001b[39mif\u001b[39;00m dtype_numeric \u001b[39mand\u001b[39;00m array\u001b[39m.\u001b[39mdtype\u001b[39m.\u001b[39mkind \u001b[39min\u001b[39;00m \u001b[39m\"\u001b[39m\u001b[39mUSV\u001b[39m\u001b[39m\"\u001b[39m:\n\u001b[0;32m    908\u001b[0m     \u001b[39mraise\u001b[39;00m \u001b[39mValueError\u001b[39;00m(\n\u001b[0;32m    909\u001b[0m         \u001b[39m\"\u001b[39m\u001b[39mdtype=\u001b[39m\u001b[39m'\u001b[39m\u001b[39mnumeric\u001b[39m\u001b[39m'\u001b[39m\u001b[39m is not compatible with arrays of bytes/strings.\u001b[39m\u001b[39m\"\u001b[39m\n\u001b[0;32m    910\u001b[0m         \u001b[39m\"\u001b[39m\u001b[39mConvert your data to numeric values explicitly instead.\u001b[39m\u001b[39m\"\u001b[39m\n\u001b[0;32m    911\u001b[0m     )\n",
      "\u001b[1;31mValueError\u001b[0m: Expected 2D array, got 1D array instead:\narray=[0. 0. 0. ... 0. 0. 0.].\nReshape your data either using array.reshape(-1, 1) if your data has a single feature or array.reshape(1, -1) if it contains a single sample."
     ]
    }
   ],
   "source": [
    "recommend_by_following(6000)"
   ]
  },
  {
   "cell_type": "code",
   "execution_count": 17,
   "metadata": {},
   "outputs": [
    {
     "name": "stdout",
     "output_type": "stream",
     "text": [
      "[(7605, 0.4743416490252569), (15616, 0.3651483716701108), (1243, 0.31622776601683794), (1591, 0.31622776601683794), (4095, 0.31622776601683794)]\n",
      "[(4995, 0.7295590184807418), (13022, 0.7175073082570949), (8518, 0.7090515214622456), (7524, 0.6759967385804102), (14075, 0.6757850726401022)]\n"
     ]
    }
   ],
   "source": [
    "def recommend(user):\n",
    "    user_sim = top_5_similarities(get_recent_follows(user), 0.2)\n",
    "    collaborative_f = recommend_by_following(user)\n",
    "    content_f = similarity_by_content(user_sim)\n",
    "    print(collaborative_f)\n",
    "    print(content_f)\n",
    "\n",
    "recommend(6000)"
   ]
  },
  {
   "cell_type": "code",
   "execution_count": null,
   "metadata": {},
   "outputs": [],
   "source": [
    "def get_top_10(user_id, sim_mat):\n",
    "    rec_list = []\n",
    "    top_10_list = recommend(user_id, sim_mat)[0:20]\n",
    "    top_10_list_ids = [i[0] for i in top_10_list]\n",
    "    for i in top_10_list:\n",
    "        rec_list.append(df.iloc[i[0]])\n",
    "    top_10_df = pd.concat(rec_list, axis=1).transpose()\n",
    "    top_10_df[\"similarity\"] = [i[1] for i in top_10_list]\n",
    "    top_10_df = top_10_df[[\"following_list\", \"similarity\"]]\n",
    "    return top_10_df\n",
    "\n",
    "    \n",
    "top_10_df = get_top_10(909, sim)\n",
    "top_10_df"
   ]
  },
  {
   "attachments": {},
   "cell_type": "markdown",
   "metadata": {},
   "source": [
    "### Adding a new user"
   ]
  },
  {
   "cell_type": "code",
   "execution_count": null,
   "metadata": {},
   "outputs": [],
   "source": [
    "\n",
    "def add_bio(df, text):\n",
    "\n",
    "    queryTFIDF = vec.fit_transform(df[\"clean_input\"].apply(lambda x: np.str_(x)))\n",
    "    df.loc[len(df)] = [9999, 9999, 5462462, \"Edinburgh\", \"CodeClan\", \"I like JavaScript\", [], [], [\"HTML\", \"CSS\", \"JavaScript\"], \"HTML CSS JavaScript\", \"I like JavaScript HTML CSS JavaScript\"]\n",
    "    new_data = df.iloc[len(df)-1]\n",
    "    queryTFIDF_2 = vec.transform([new_data[\"clean_input\"]])\n",
    "    cosine_similarities = cosine_similarity(queryTFIDF, queryTFIDF_2).flatten()\n",
    "    # # print(cosine_similarities)\n",
    "    return cosine_similarities\n",
    "# new_sim = add_bio(professionals_df, \"Hello I like web development\")\n",
    "# print(len(new_sim))\n",
    "\n",
    "new_sim_con = np.vstack((cos_sim, new_sim))\n",
    "new_sim = np.append(new_sim, 1)\n",
    "\n",
    "\n",
    "# new_sim = new_sim.reshape(-1, 1)\n",
    "# print(new_sim)\n",
    "# sim = np.concatenate((new_sim_con, new_sim), axis=1)"
   ]
  },
  {
   "cell_type": "code",
   "execution_count": null,
   "metadata": {},
   "outputs": [],
   "source": [
    "high_follows_df = df.copy()\n",
    "\n",
    "dum = pd.get_dummies(high_follows_df['languages'].explode()).sum(level=0)\n",
    "dum_sim = cosine_similarity(dum)\n"
   ]
  },
  {
   "cell_type": "code",
   "execution_count": null,
   "metadata": {},
   "outputs": [],
   "source": [
    "def recommend_by_languages(userId):\n",
    "    print(\"Languages of recommendee:\")\n",
    "    print(high_follows_df.iloc[userId].languages)\n",
    "    scores = list(enumerate(dum_sim[userId]))\n",
    "    sorted_scores=sorted(scores,key=lambda x:x[1], reverse=True)\n",
    "    sorted_scores=sorted_scores[1:]\n",
    "    recommendations = [user for user in sorted_scores]\n",
    "    return recommendations\n",
    "\n",
    "def get_top_10(rec):\n",
    "    rec_list = []\n",
    "    top_10_list = rec[0:10]\n",
    "    top_10_list_ids = [i[0] for i in top_10_list]\n",
    "    for i in top_10_list:\n",
    "        rec_list.append(high_follows_df.iloc[i[0]])\n",
    "    top_10_df = pd.concat(rec_list, axis=1).transpose()\n",
    "    top_10_df[\"similarity\"] = [i[1] for i in top_10_list]\n",
    "    top_10_df = top_10_df[[\"languages\", \"similarity\"]]\n",
    "    return top_10_df\n",
    "\n",
    "rec = recommend_by_languages(10000)\n",
    "\n",
    "print(\" \")\n",
    "print(\" \")\n",
    "print(\"Recommendations\")\n",
    "print(get_top_10(rec))"
   ]
  },
  {
   "cell_type": "code",
   "execution_count": 78,
   "metadata": {},
   "outputs": [],
   "source": [
    "high_follows_df[\"follower_count\"] = high_follows_df[\"follower_list\"].str.len()\n",
    "high_follows_df = high_follows_df.sort_values(by='follower_count', ascending=True)"
   ]
  },
  {
   "attachments": {},
   "cell_type": "markdown",
   "metadata": {},
   "source": [
    "## Connections Plot"
   ]
  },
  {
   "cell_type": "code",
   "execution_count": 419,
   "metadata": {},
   "outputs": [],
   "source": [
    "import networkx as nx\n",
    "import math\n",
    "\n",
    "\n",
    "graph = nx.DiGraph()\n",
    "sub_graph = high_follows_df\n",
    "\n",
    "for index, row in sub_graph.iterrows():\n",
    "    graph.add_node(row[\"id\"])\n",
    "\n",
    "for index, row in sub_graph.iterrows():\n",
    "    f_list = row[\"follower_list\"]\n",
    "    for follower in f_list:\n",
    "        graph.add_edge(follower, row[\"id\"])"
   ]
  },
  {
   "cell_type": "code",
   "execution_count": null,
   "metadata": {},
   "outputs": [],
   "source": [
    "from matplotlib import pylab\n",
    "\n",
    "\n",
    "\n",
    "def save_graph(graph,file_name):\n",
    "    #initialze Figure\n",
    "    plt.figure(num=None, figsize=(150, 150), dpi=100)\n",
    "    plt.axis('off')\n",
    "    fig = plt.figure(1)\n",
    "    pos = nx.spring_layout(graph)\n",
    "    nx.draw_networkx_nodes(graph,pos,node_color=range(len(graph)),cmap=plt.cm.Reds)\n",
    "    nx.draw_networkx_edges(graph,pos,alpha=0.4,arrows=False)\n",
    "\n",
    "    # cut = 1.00\n",
    "    # xmax = cut * max(xx for xx, yy in pos.values())\n",
    "    # ymax = cut * max(yy for xx, yy in pos.values())\n",
    "    # plt.xlim(0, xmax)\n",
    "    # plt.ylim(0, ymax)\n",
    "\n",
    "    plt.savefig(file_name)\n",
    "    pylab.close()\n",
    "    del fig\n",
    "\n",
    "#Assuming that the graph g has nodes and edges entered\n",
    "print(len(graph))\n",
    "save_graph(graph,\"my_graph_7.svg\")"
   ]
  }
 ],
 "metadata": {
  "kernelspec": {
   "display_name": "recsys",
   "language": "python",
   "name": "python3"
  },
  "language_info": {
   "codemirror_mode": {
    "name": "ipython",
    "version": 3
   },
   "file_extension": ".py",
   "mimetype": "text/x-python",
   "name": "python",
   "nbconvert_exporter": "python",
   "pygments_lexer": "ipython3",
   "version": "3.9.16"
  },
  "vscode": {
   "interpreter": {
    "hash": "d2b37dc4820977dd01f97017c0afe691699a3f985416c7f071ed6150a7a27c17"
   }
  }
 },
 "nbformat": 4,
 "nbformat_minor": 2
}
